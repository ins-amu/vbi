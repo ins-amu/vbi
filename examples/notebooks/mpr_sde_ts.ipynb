{
 "cells": [
  {
   "cell_type": "code",
   "execution_count": 1,
   "metadata": {
    "execution": {
     "iopub.execute_input": "2023-12-26T12:00:36.250783Z",
     "iopub.status.busy": "2023-12-26T12:00:36.250641Z",
     "iopub.status.idle": "2023-12-26T12:00:36.677424Z",
     "shell.execute_reply": "2023-12-26T12:00:36.676886Z"
    }
   },
   "outputs": [],
   "source": [
    "import numpy as np \n",
    "import networkx as nx\n",
    "import matplotlib.pyplot as plt\n",
    "from vbi.models.cpp.mpr import MPR_sde"
   ]
  },
  {
   "cell_type": "code",
   "execution_count": 2,
   "metadata": {
    "execution": {
     "iopub.execute_input": "2023-12-26T12:00:36.679814Z",
     "iopub.status.busy": "2023-12-26T12:00:36.679527Z",
     "iopub.status.idle": "2023-12-26T12:00:36.682004Z",
     "shell.execute_reply": "2023-12-26T12:00:36.681640Z"
    }
   },
   "outputs": [],
   "source": [
    "seed = 2\n",
    "np.random.seed(seed)"
   ]
  },
  {
   "cell_type": "code",
   "execution_count": 3,
   "metadata": {
    "execution": {
     "iopub.execute_input": "2023-12-26T12:00:36.683883Z",
     "iopub.status.busy": "2023-12-26T12:00:36.683696Z",
     "iopub.status.idle": "2023-12-26T12:00:36.686131Z",
     "shell.execute_reply": "2023-12-26T12:00:36.685772Z"
    }
   },
   "outputs": [],
   "source": [
    "LABESSIZE = 14\n",
    "plt.rcParams['axes.labelsize'] = LABESSIZE\n",
    "plt.rcParams['xtick.labelsize'] = LABESSIZE\n",
    "plt.rcParams['ytick.labelsize'] = LABESSIZE"
   ]
  },
  {
   "cell_type": "code",
   "execution_count": 4,
   "metadata": {
    "execution": {
     "iopub.execute_input": "2023-12-26T12:00:36.687956Z",
     "iopub.status.busy": "2023-12-26T12:00:36.687764Z",
     "iopub.status.idle": "2023-12-26T12:00:36.690341Z",
     "shell.execute_reply": "2023-12-26T12:00:36.689976Z"
    }
   },
   "outputs": [],
   "source": [
    "nn = 6\n",
    "weights = nx.to_numpy_array(nx.complete_graph(nn))"
   ]
  },
  {
   "cell_type": "code",
   "execution_count": 5,
   "metadata": {
    "execution": {
     "iopub.execute_input": "2023-12-26T12:00:36.692046Z",
     "iopub.status.busy": "2023-12-26T12:00:36.691906Z",
     "iopub.status.idle": "2023-12-26T12:00:36.695110Z",
     "shell.execute_reply": "2023-12-26T12:00:36.694773Z"
    }
   },
   "outputs": [],
   "source": [
    "parameters = {\n",
    "    \"G\": 0.55,                         # global coupling strength\n",
    "    \"dt\": 0.01,                         # for mpr model [ms]\n",
    "    \"dt_bold\": 0.001,                   # for Balloon model [s]\n",
    "    \"J\": 14.5,                          # model parameter\n",
    "    \"eta\": -4.6*np.ones(nn),                        # model parameter\n",
    "    \"tau\": 1.0,                         # model parameter\n",
    "    \"delta\": 0.7,                       # model parameter\n",
    "    \"decimate\": 500,                    # sampling from mpr time series\n",
    "    \"noise_amp\": 0.037,                 # amplitude of noise\n",
    "    \"iapp\": 0.0,                        # constant applyed current\n",
    "    \"t_initial\": 0.0,                   # initial time * 10[ms]\n",
    "    \"t_transition\": 20_000.0,           # transition time * 10 [ms]\n",
    "    \"t_end\": 250_000.0,                 # end time * 10 [ms]\n",
    "    \"weights\": weights,                 # weighted connection matrix\n",
    "    \"seed\": seed,                       # seed for random number generator\n",
    "    \"noise_seed\": True,                 # fix seed for noise\n",
    "    \"record_step\": 10,                  # sampling every n step from mpr time series\n",
    "    \"output\": \"output\",                 # output directory\n",
    "    \"RECORD_AVG\": 0                     # true to store large time series in file\n",
    "}"
   ]
  },
  {
   "cell_type": "code",
   "execution_count": 6,
   "metadata": {
    "execution": {
     "iopub.execute_input": "2023-12-26T12:00:36.696837Z",
     "iopub.status.busy": "2023-12-26T12:00:36.696669Z",
     "iopub.status.idle": "2023-12-26T12:00:36.698918Z",
     "shell.execute_reply": "2023-12-26T12:00:36.698583Z"
    }
   },
   "outputs": [],
   "source": [
    "control_dict = {\n",
    "    \"eta\": {\"indices\": [[0], [2, 3]], \"value\": [-4.3, -4.5]}, # set different values for eta\n",
    "    \"G\": {\"value\": 0.5},\n",
    "    }"
   ]
  },
  {
   "cell_type": "code",
   "execution_count": 7,
   "metadata": {
    "execution": {
     "iopub.execute_input": "2023-12-26T12:00:36.700615Z",
     "iopub.status.busy": "2023-12-26T12:00:36.700446Z",
     "iopub.status.idle": "2023-12-26T12:00:39.412127Z",
     "shell.execute_reply": "2023-12-26T12:00:39.411631Z"
    }
   },
   "outputs": [
    {
     "name": "stdout",
     "output_type": "stream",
     "text": [
      "[-4.3 -4.6 -4.5 -4.5 -4.6 -4.6]\n"
     ]
    }
   ],
   "source": [
    "obj = MPR_sde(parameters)\n",
    "# print(obj())\n",
    "sol = obj.run(par=control_dict)\n",
    "print(obj.eta)"
   ]
  },
  {
   "cell_type": "code",
   "execution_count": 8,
   "metadata": {
    "execution": {
     "iopub.execute_input": "2023-12-26T12:00:39.436422Z",
     "iopub.status.busy": "2023-12-26T12:00:39.436239Z",
     "iopub.status.idle": "2023-12-26T12:00:39.438747Z",
     "shell.execute_reply": "2023-12-26T12:00:39.438280Z"
    }
   },
   "outputs": [],
   "source": [
    "t = sol[\"t\"]\n",
    "x = sol[\"x\"]"
   ]
  },
  {
   "cell_type": "code",
   "execution_count": 9,
   "metadata": {
    "execution": {
     "iopub.execute_input": "2023-12-26T12:00:39.440528Z",
     "iopub.status.busy": "2023-12-26T12:00:39.440362Z",
     "iopub.status.idle": "2023-12-26T12:00:39.442661Z",
     "shell.execute_reply": "2023-12-26T12:00:39.442325Z"
    }
   },
   "outputs": [
    {
     "name": "stdout",
     "output_type": "stream",
     "text": [
      "t.shape = (460,)\n",
      "x.shape = (6, 460)\n"
     ]
    }
   ],
   "source": [
    "print(f\"t.shape = {t.shape}\")\n",
    "print(f\"x.shape = {x.shape}\")"
   ]
  },
  {
   "cell_type": "code",
   "execution_count": 10,
   "metadata": {
    "execution": {
     "iopub.execute_input": "2023-12-26T12:00:39.444374Z",
     "iopub.status.busy": "2023-12-26T12:00:39.444214Z",
     "iopub.status.idle": "2023-12-26T12:00:39.666035Z",
     "shell.execute_reply": "2023-12-26T12:00:39.665635Z"
    }
   },
   "outputs": [],
   "source": [
    "if x.ndim == 2:\n",
    "    pass\n",
    "    fig, ax = plt.subplots(1, figsize=(10, 3))\n",
    "    ax.set_xlabel(\"Time [s]\")\n",
    "    ax.set_ylabel(\"BOLD\")\n",
    "    plt.plot(t/1000, x.T, alpha=0.8, lw=2)\n",
    "    plt.margins(0,0.1)\n",
    "    plt.tight_layout()\n",
    "    plt.savefig(\"output/mpr_sde_ts.png\", dpi=300)\n",
    "    plt.close()\n",
    "else:\n",
    "    exit(0)"
   ]
  },
  {
   "cell_type": "markdown",
   "metadata": {},
   "source": [
    "Feature extraction ------------------------------------------------"
   ]
  },
  {
   "cell_type": "code",
   "execution_count": 11,
   "metadata": {
    "execution": {
     "iopub.execute_input": "2023-12-26T12:00:39.668232Z",
     "iopub.status.busy": "2023-12-26T12:00:39.668044Z",
     "iopub.status.idle": "2023-12-26T12:00:40.921640Z",
     "shell.execute_reply": "2023-12-26T12:00:40.921116Z"
    }
   },
   "outputs": [
    {
     "name": "stderr",
     "output_type": "stream",
     "text": [
      "/home/ziaee/anaconda3/envs/vbi_paper/lib/python3.9/site-packages/tqdm/auto.py:21: TqdmWarning: IProgress not found. Please update jupyter and ipywidgets. See https://ipywidgets.readthedocs.io/en/stable/user_install.html\n",
      "  from .autonotebook import tqdm as notebook_tqdm\n"
     ]
    }
   ],
   "source": [
    "from vbi.feature_extraction.features_settings import *\n",
    "from vbi.feature_extraction.calc_features import *"
   ]
  },
  {
   "cell_type": "code",
   "execution_count": 12,
   "metadata": {
    "execution": {
     "iopub.execute_input": "2023-12-26T12:00:40.923709Z",
     "iopub.status.busy": "2023-12-26T12:00:40.923422Z",
     "iopub.status.idle": "2023-12-26T12:00:41.296568Z",
     "shell.execute_reply": "2023-12-26T12:00:41.296179Z"
    }
   },
   "outputs": [
    {
     "name": "stderr",
     "output_type": "stream",
     "text": [
      "100%|██████████████████████████████████████████████████████████████████████████████████████████████████████████████| 1/1 [00:00<00:00,  2.77it/s]"
     ]
    },
    {
     "name": "stdout",
     "output_type": "stream",
     "text": [
      "   variance_0  variance_1  variance_2  variance_3  variance_4  variance_5  \\\n",
      "0    0.001227    0.002823    0.002001    0.002924    0.002269    0.001861   \n",
      "\n",
      "     calc_rss     std_0     std_1     std_2  ...  median_abs_deviation_0  \\\n",
      "0  209.154999  0.035029  0.053131  0.044738  ...                 0.02309   \n",
      "\n",
      "   median_abs_deviation_1  median_abs_deviation_2  median_abs_deviation_3  \\\n",
      "0                0.027323                0.028376                0.031003   \n",
      "\n",
      "   median_abs_deviation_4  median_abs_deviation_5  hmm_dur_0  hmm_dur_1  \\\n",
      "0                0.027883                 0.02873        0.0       0.25   \n",
      "\n",
      "   hmm_dur_2  hmm_dur_3  \n",
      "0        1.0       1.25  \n",
      "\n",
      "[1 rows x 59 columns]\n"
     ]
    },
    {
     "name": "stderr",
     "output_type": "stream",
     "text": [
      "\n"
     ]
    }
   ],
   "source": [
    "fs = 1/(parameters[\"dt_bold\"]) / 1000\n",
    "cfg = get_features_by_domain(domain=\"statistical\")\n",
    "# report_cfg(cfg)\n",
    "data = dataframe_feature_extractor([x], fs, fea_dict=cfg, n_workers=1)\n",
    "print(data.values)"
   ]
  }
 ],
 "metadata": {
  "kernelspec": {
   "display_name": "Python 3",
   "language": "python",
   "name": "python3"
  },
  "language_info": {
   "codemirror_mode": {
    "name": "ipython",
    "version": 3
   },
   "file_extension": ".py",
   "mimetype": "text/x-python",
   "name": "python",
   "nbconvert_exporter": "python",
   "pygments_lexer": "ipython3",
   "version": "3.9.17"
  }
 },
 "nbformat": 4,
 "nbformat_minor": 2
}
