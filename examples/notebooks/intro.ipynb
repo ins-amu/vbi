{
 "cells": [
  {
   "cell_type": "code",
   "execution_count": 1,
   "metadata": {
    "execution": {
     "iopub.execute_input": "2023-12-26T12:00:11.054406Z",
     "iopub.status.busy": "2023-12-26T12:00:11.054263Z",
     "iopub.status.idle": "2023-12-26T12:00:11.440165Z",
     "shell.execute_reply": "2023-12-26T12:00:11.439591Z"
    }
   },
   "outputs": [],
   "source": [
    "import vbi "
   ]
  },
  {
   "cell_type": "code",
   "execution_count": 2,
   "metadata": {
    "execution": {
     "iopub.execute_input": "2023-12-26T12:00:11.442578Z",
     "iopub.status.busy": "2023-12-26T12:00:11.442363Z",
     "iopub.status.idle": "2023-12-26T12:00:12.757678Z",
     "shell.execute_reply": "2023-12-26T12:00:12.757294Z"
    }
   },
   "outputs": [
    {
     "name": "stderr",
     "output_type": "stream",
     "text": [
      "/home/ziaee/anaconda3/envs/vbi_paper/lib/python3.9/site-packages/tqdm/auto.py:21: TqdmWarning: IProgress not found. Please update jupyter and ipywidgets. See https://ipywidgets.readthedocs.io/en/stable/user_install.html\n",
      "  from .autonotebook import tqdm as notebook_tqdm\n",
      ".....................\n",
      "----------------------------------------------------------------------\n",
      "Ran 21 tests in 0.009s\n",
      "\n",
      "OK\n"
     ]
    }
   ],
   "source": [
    "vbi.tests()"
   ]
  }
 ],
 "metadata": {
  "kernelspec": {
   "display_name": "Python 3",
   "language": "python",
   "name": "python3"
  },
  "language_info": {
   "codemirror_mode": {
    "name": "ipython",
    "version": 3
   },
   "file_extension": ".py",
   "mimetype": "text/x-python",
   "name": "python",
   "nbconvert_exporter": "python",
   "pygments_lexer": "ipython3",
   "version": "3.9.17"
  }
 },
 "nbformat": 4,
 "nbformat_minor": 2
}
