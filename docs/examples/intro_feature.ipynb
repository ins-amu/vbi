{
 "cells": [
  {
   "cell_type": "markdown",
   "metadata": {},
   "source": [
    "# [Introduction to features](https://github.com/Ziaeemehr/vbi_paper/blob/main/docs/examples/intro_feature.ipynb)\n",
    "\n",
    "<a href=\"https://colab.research.google.com/github/Ziaeemehr/vbi_paper/blob/main/docs/examples/intro_feature.ipynb\" target=\"_parent\"><img src=\"https://colab.research.google.com/assets/colab-badge.svg\" alt=\"Open In Colab\"/></a>"
   ]
  },
  {
   "cell_type": "code",
   "execution_count": 1,
   "metadata": {},
   "outputs": [],
   "source": [
    "import vbi\n",
    "import numpy as np\n",
    "from vbi import report_cfg\n",
    "from vbi import extract_features_df, extract_features_list\n",
    "from vbi import get_features_by_domain, get_features_by_given_names"
   ]
  },
  {
   "cell_type": "code",
   "execution_count": 2,
   "metadata": {},
   "outputs": [
    {
     "name": "stdout",
     "output_type": "stream",
     "text": [
      "(88, 208)\n"
     ]
    }
   ],
   "source": [
    "D = vbi.LoadSample(nn=88)\n",
    "ts = D.get_bold()\n",
    "print(ts.shape)\n",
    "# np.savetxt(\"ts.csv\", ts[:10, :].T, delimiter=\",\")"
   ]
  },
  {
   "cell_type": "code",
   "execution_count": 3,
   "metadata": {},
   "outputs": [
    {
     "name": "stdout",
     "output_type": "stream",
     "text": [
      "Selected features:\n",
      "------------------\n",
      "■ Domain: connectivity\n",
      " ▢ Function:  fc_stat\n",
      "   ▫ description:  Extracts features from functional connectivity (FC).\n",
      "   ▫ function   :  vbi.feature_extraction.features.fc_stat\n",
      "   ▫ parameters :  {'k': 0, 'masks': None, 'positive': False, 'verbose': False, 'eigenvalues': True, 'pca_num_components': 3, 'fc_function': 'corrcoef', 'quantiles': [0.05, 0.25, 0.5, 0.75, 0.95], 'features': ['sum']}\n",
      "   ▫ tag        :  all\n",
      "   ▫ use        :  yes\n"
     ]
    }
   ],
   "source": [
    "cfg = get_features_by_domain(domain=\"connectivity\")\n",
    "cfg = get_features_by_given_names(cfg, ['fc_stat'])\n",
    "cfg = vbi.update_cfg(cfg, 'fc_stat', {\"features\":[\"sum\"], \"fc_function\":\"corrcoef\"})\n",
    "report_cfg(cfg)"
   ]
  },
  {
   "cell_type": "code",
   "execution_count": 4,
   "metadata": {},
   "outputs": [
    {
     "name": "stderr",
     "output_type": "stream",
     "text": [
      "100%|██████████| 1/1 [00:00<00:00, 103.29it/s]\n"
     ]
    }
   ],
   "source": [
    "data = extract_features_list([ts], 0.5, cfg)"
   ]
  },
  {
   "cell_type": "code",
   "execution_count": null,
   "metadata": {},
   "outputs": [],
   "source": []
  }
 ],
 "metadata": {
  "language_info": {
   "name": "python"
  }
 },
 "nbformat": 4,
 "nbformat_minor": 2
}
