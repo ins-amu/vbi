{
 "cells": [
  {
   "cell_type": "markdown",
   "metadata": {},
   "source": [
    "# [Introduction to features](https://github.com/Ziaeemehr/vbi_paper/blob/main/docs/examples/intro_feature.ipynb)\n",
    "\n",
    "<a href=\"https://colab.research.google.com/github/Ziaeemehr/vbi_paper/blob/main/docs/examples/intro_feature.ipynb\" target=\"_parent\"><img src=\"https://colab.research.google.com/assets/colab-badge.svg\" alt=\"Open In Colab\"/></a>"
   ]
  },
  {
   "cell_type": "code",
   "execution_count": 1,
   "metadata": {},
   "outputs": [],
   "source": [
    "import vbi\n",
    "import numpy as np\n",
    "from vbi import report_cfg\n",
    "from vbi import extract_features_df, extract_features_list\n",
    "from vbi import get_features_by_domain, get_features_by_given_names"
   ]
  },
  {
   "cell_type": "code",
   "execution_count": 2,
   "metadata": {},
   "outputs": [
    {
     "name": "stdout",
     "output_type": "stream",
     "text": [
      "(88, 208)\n"
     ]
    }
   ],
   "source": [
    "D = vbi.LoadSample(nn=88)\n",
    "ts = D.get_bold()\n",
    "print(ts.shape)\n",
    "# np.savetxt(\"ts.csv\", ts[:10, :].T, delimiter=\",\")"
   ]
  },
  {
   "cell_type": "code",
   "execution_count": 3,
   "metadata": {},
   "outputs": [
    {
     "name": "stdout",
     "output_type": "stream",
     "text": [
      "Selected features:\n",
      "------------------\n",
      "■ Domain: connectivity\n",
      " ▢ Function:  fc_stat\n",
      "   ▫ description:  Extracts features from functional connectivity (FC).\n",
      "   ▫ function   :  vbi.feature_extraction.features.fc_stat\n",
      "   ▫ parameters :  {'k': 0, 'masks': None, 'positive': False, 'verbose': False, 'eigenvalues': True, 'pca_num_components': 3, 'fc_function': 'corrcoef', 'quantiles': [0.05, 0.25, 0.5, 0.75, 0.95], 'features': ['sum']}\n",
      "   ▫ tag        :  all\n",
      "   ▫ use        :  yes\n"
     ]
    }
   ],
   "source": [
    "cfg = get_features_by_domain(domain=\"connectivity\")\n",
    "cfg = get_features_by_given_names(cfg, ['fc_stat'])\n",
    "cfg = vbi.update_cfg(cfg, 'fc_stat', {\"features\":[\"sum\"], \"fc_function\":\"corrcoef\"})\n",
    "report_cfg(cfg)"
   ]
  },
  {
   "cell_type": "code",
   "execution_count": 8,
   "metadata": {},
   "outputs": [
    {
     "name": "stderr",
     "output_type": "stream",
     "text": [
      "100%|██████████| 1/1 [00:00<00:00, 170.29it/s]\n"
     ]
    },
    {
     "data": {
      "text/plain": [
       "([array([-5.5172849e-02,  1.8978356e-01,  3.6331561e-01,  5.4156488e-01,\n",
       "          7.6214993e-01, -2.6645353e-14,  1.0000000e+00,  1.3969272e+03,\n",
       "          2.9416184e+03], dtype=float32)],\n",
       " ['fc_stat_full_quantile_0.05',\n",
       "  'fc_stat_full_quantile_0.25',\n",
       "  'fc_stat_full_quantile_0.5',\n",
       "  'fc_stat_full_quantile_0.75',\n",
       "  'fc_stat_full_quantile_0.95',\n",
       "  'fc_stat_full_pca_sum',\n",
       "  'fc_stat_full_full_sum',\n",
       "  'fc_stat_full_ut_sum',\n",
       "  'fc_stat_full_sum'])"
      ]
     },
     "execution_count": 8,
     "metadata": {},
     "output_type": "execute_result"
    }
   ],
   "source": [
    "data = extract_features_list([ts], 0.5, cfg)\n",
    "data"
   ]
  },
  {
   "cell_type": "code",
   "execution_count": 7,
   "metadata": {},
   "outputs": [
    {
     "name": "stderr",
     "output_type": "stream",
     "text": [
      "100%|██████████| 2/2 [00:00<00:00, 46.24it/s]\n"
     ]
    },
    {
     "data": {
      "text/html": [
       "<div>\n",
       "<style scoped>\n",
       "    .dataframe tbody tr th:only-of-type {\n",
       "        vertical-align: middle;\n",
       "    }\n",
       "\n",
       "    .dataframe tbody tr th {\n",
       "        vertical-align: top;\n",
       "    }\n",
       "\n",
       "    .dataframe thead th {\n",
       "        text-align: right;\n",
       "    }\n",
       "</style>\n",
       "<table border=\"1\" class=\"dataframe\">\n",
       "  <thead>\n",
       "    <tr style=\"text-align: right;\">\n",
       "      <th></th>\n",
       "      <th>fc_stat_full_quantile_0.05</th>\n",
       "      <th>fc_stat_full_quantile_0.25</th>\n",
       "      <th>fc_stat_full_quantile_0.5</th>\n",
       "      <th>fc_stat_full_quantile_0.75</th>\n",
       "      <th>fc_stat_full_quantile_0.95</th>\n",
       "      <th>fc_stat_full_pca_sum</th>\n",
       "      <th>fc_stat_full_full_sum</th>\n",
       "      <th>fc_stat_full_ut_sum</th>\n",
       "      <th>fc_stat_full_sum</th>\n",
       "    </tr>\n",
       "  </thead>\n",
       "  <tbody>\n",
       "    <tr>\n",
       "      <th>0</th>\n",
       "      <td>-0.055173</td>\n",
       "      <td>0.189784</td>\n",
       "      <td>0.363316</td>\n",
       "      <td>0.541565</td>\n",
       "      <td>0.76215</td>\n",
       "      <td>-2.664535e-14</td>\n",
       "      <td>1.0</td>\n",
       "      <td>1396.927246</td>\n",
       "      <td>2941.618408</td>\n",
       "    </tr>\n",
       "    <tr>\n",
       "      <th>1</th>\n",
       "      <td>-0.055173</td>\n",
       "      <td>0.189784</td>\n",
       "      <td>0.363316</td>\n",
       "      <td>0.541565</td>\n",
       "      <td>0.76215</td>\n",
       "      <td>-2.664535e-14</td>\n",
       "      <td>1.0</td>\n",
       "      <td>1396.927246</td>\n",
       "      <td>2941.618408</td>\n",
       "    </tr>\n",
       "  </tbody>\n",
       "</table>\n",
       "</div>"
      ],
      "text/plain": [
       "   fc_stat_full_quantile_0.05  fc_stat_full_quantile_0.25  \\\n",
       "0                   -0.055173                    0.189784   \n",
       "1                   -0.055173                    0.189784   \n",
       "\n",
       "   fc_stat_full_quantile_0.5  fc_stat_full_quantile_0.75  \\\n",
       "0                   0.363316                    0.541565   \n",
       "1                   0.363316                    0.541565   \n",
       "\n",
       "   fc_stat_full_quantile_0.95  fc_stat_full_pca_sum  fc_stat_full_full_sum  \\\n",
       "0                     0.76215         -2.664535e-14                    1.0   \n",
       "1                     0.76215         -2.664535e-14                    1.0   \n",
       "\n",
       "   fc_stat_full_ut_sum  fc_stat_full_sum  \n",
       "0          1396.927246       2941.618408  \n",
       "1          1396.927246       2941.618408  "
      ]
     },
     "execution_count": 7,
     "metadata": {},
     "output_type": "execute_result"
    }
   ],
   "source": [
    "data = extract_features_df([ts, ts], 0.5, cfg, n_workers=2)\n",
    "data"
   ]
  }
 ],
 "metadata": {
  "language_info": {
   "name": "python"
  }
 },
 "nbformat": 4,
 "nbformat_minor": 2
}
