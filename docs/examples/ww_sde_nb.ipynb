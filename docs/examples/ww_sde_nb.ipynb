{
 "cells": [
  {
   "cell_type": "markdown",
   "metadata": {},
   "source": [
    "---<br>\n",
    "jupyter:<br>\n",
    "  jupytext:<br>\n",
    "    cell_metadata_filter: -all<br>\n",
    "    custom_cell_magics: kql<br>\n",
    "    text_representation:<br>\n",
    "      extension: .py<br>\n",
    "      format_name: percent<br>\n",
    "      format_version: '1.3'<br>\n",
    "      jupytext_version: 1.11.2<br>\n",
    "  kernelspec:<br>\n",
    "    display_name: vbi_paper<br>\n",
    "    language: python<br>\n",
    "    name: python3<br>\n",
    "---"
   ]
  },
  {
   "cell_type": "markdown",
   "metadata": {},
   "source": [
    "%%"
   ]
  },
  {
   "cell_type": "code",
   "execution_count": null,
   "metadata": {},
   "outputs": [],
   "source": [
    "import torch\n",
    "import pickle\n",
    "import numpy as np\n",
    "from time import time\n",
    "from tqdm import tqdm\n",
    "import networkx as nx\n",
    "import sbi.utils as utils\n",
    "import scipy.stats as stats\n",
    "from helpers import plot_mat\n",
    "import matplotlib.pyplot as plt\n",
    "from multiprocessing import Pool\n",
    "from sbi.analysis import pairplot\n",
    "from vbi.inference import Inference\n",
    "from vbi.models.numba.ww import WW_sde, ParWW, ParBaloon\n",
    "from sklearn.preprocessing import StandardScaler\n",
    "from vbi.feature_extraction.features_utils import get_fc, get_fcd2"
   ]
  },
  {
   "cell_type": "markdown",
   "metadata": {},
   "source": [
    "%%"
   ]
  },
  {
   "cell_type": "code",
   "execution_count": null,
   "metadata": {},
   "outputs": [],
   "source": [
    "import vbi\n",
    "from vbi import report_cfg\n",
    "from vbi import extract_features\n",
    "from vbi import get_features_by_domain, get_features_by_given_names"
   ]
  },
  {
   "cell_type": "markdown",
   "metadata": {},
   "source": [
    "%%"
   ]
  },
  {
   "cell_type": "code",
   "execution_count": null,
   "metadata": {},
   "outputs": [],
   "source": [
    "seed = 2\n",
    "np.random.seed(seed)\n",
    "torch.manual_seed(seed);"
   ]
  },
  {
   "cell_type": "markdown",
   "metadata": {},
   "source": [
    "%%"
   ]
  },
  {
   "cell_type": "code",
   "execution_count": null,
   "metadata": {},
   "outputs": [],
   "source": [
    "LABESSIZE = 12\n",
    "plt.rcParams['axes.labelsize'] = LABESSIZE\n",
    "plt.rcParams['xtick.labelsize'] = LABESSIZE\n",
    "plt.rcParams['ytick.labelsize'] = LABESSIZE"
   ]
  },
  {
   "cell_type": "markdown",
   "metadata": {},
   "source": [
    "%%"
   ]
  },
  {
   "cell_type": "code",
   "execution_count": null,
   "metadata": {},
   "outputs": [],
   "source": [
    "weights = vbi.LoadSample(84).get_weights()\n",
    "nn = weights.shape[0]"
   ]
  },
  {
   "cell_type": "markdown",
   "metadata": {},
   "source": [
    "%%"
   ]
  },
  {
   "cell_type": "code",
   "execution_count": null,
   "metadata": {},
   "outputs": [],
   "source": [
    "par = {\n",
    "    \"G\": 0.25,\n",
    "    \"dt\": 5.0,\n",
    "    \"t_cut\": 2 * 60 * 1000.0,\n",
    "    \"t_end\": 5 * 60 * 1000.0,\n",
    "    \"weights\": weights,\n",
    "    \"seed\": seed,\n",
    "    \"sigma_noise\": 0.001,\n",
    "    \"I_o\": 0.3 * np.ones(nn),\n",
    "    \"w\": np.random.uniform(0.9, 1.0, nn),\n",
    "    \"ts_decimate\": 10,\n",
    "    \"fmri_decimate\": 10,\n",
    "    \"method\": \"heun\",\n",
    "    \"RECORD_TS\": True,\n",
    "    \"RECORD_FMRI\": True,\n",
    "}"
   ]
  },
  {
   "cell_type": "markdown",
   "metadata": {},
   "source": [
    "%%"
   ]
  },
  {
   "cell_type": "code",
   "execution_count": null,
   "metadata": {},
   "outputs": [],
   "source": [
    "from vbi.feature_extraction.features_utils import get_fcd"
   ]
  },
  {
   "cell_type": "markdown",
   "metadata": {},
   "source": [
    "%%"
   ]
  },
  {
   "cell_type": "code",
   "execution_count": null,
   "metadata": {},
   "outputs": [],
   "source": [
    "def simulate(params, par):\n",
    "    \n",
    "    params['G'] = par[0]\n",
    "    params['sigma_noise'] = par[1]\n",
    "    params['I_o'] = par[2] * np.ones(nn)\n",
    "    obj = WW_sde(params)\n",
    "    data = obj.run()\n",
    "    t = data['t']\n",
    "    s = data['s']\n",
    "    t_fmri = data['t_fmri']\n",
    "    d_fmri = data['d_fmri']\n",
    "    \n",
    "    return t, s, t_fmri, d_fmri"
   ]
  },
  {
   "cell_type": "markdown",
   "metadata": {},
   "source": [
    "%%"
   ]
  },
  {
   "cell_type": "code",
   "execution_count": null,
   "metadata": {},
   "outputs": [],
   "source": [
    "def visual(t, s, t_fmri, d_fmri, k=30, **kwargs):\n",
    "    fc = get_fc(d_fmri)['full']\n",
    "    fcd = get_fcd2(d_fmri, **kwargs)\n",
    "    # fcd = get_fcd(d_fmri.T, win_len=win_len)['full']\n",
    "    \n",
    "    fc = vbi.utils.set_diag(fc, 0)\n",
    "    fcd = vbi.utils.set_diag(fcd, k)\n",
    "    \n",
    "    mosaic = \"\"\"\n",
    "    AACD\n",
    "    BBCD\n",
    "    \"\"\"\n",
    "    fig = plt.figure(constrained_layout=True, figsize=(12, 3.5))\n",
    "    ax = fig.subplot_mosaic(mosaic)\n",
    "    ax['A'].plot(t, s.T, lw=0.1, alpha=1.0)\n",
    "    ax['B'].plot(t_fmri, d_fmri.T, lw=0.1, alpha=1.0)\n",
    "    im = ax['C'].imshow(fcd, cmap=\"viridis\"); plt.colorbar(im, ax=ax['C'])\n",
    "    ax['D'].imshow(fc, cmap=\"viridis\"); plt.colorbar(im, ax=ax['D']);"
   ]
  },
  {
   "cell_type": "markdown",
   "metadata": {},
   "source": [
    "%%"
   ]
  },
  {
   "cell_type": "code",
   "execution_count": null,
   "metadata": {},
   "outputs": [],
   "source": [
    "tic = time()\n",
    "t, s, t_fmri, d_fmri = simulate(par, [0.2, 0.01, 0.3])\n",
    "print(f\"Elapsed time: {time() - tic:.3f} seconds.\")\n",
    "print(t.shape, s.shape, t_fmri.shape, d_fmri.shape)"
   ]
  },
  {
   "cell_type": "markdown",
   "metadata": {},
   "source": [
    "%%"
   ]
  },
  {
   "cell_type": "code",
   "execution_count": null,
   "metadata": {},
   "outputs": [],
   "source": [
    "tic = time()\n",
    "t, s, t_fmri, d_fmri = simulate(par, [0.25, 0.008, 0.295])  # [0.2, 0.003, 0.295]\n",
    "print(f\"Elapsed time: {time() - tic:.3f} seconds.\")\n",
    "visual(t, s, t_fmri[:], d_fmri[:, :], k=30, wwidth=200, maxNwindows=250, olap=0.94)"
   ]
  },
  {
   "cell_type": "code",
   "execution_count": null,
   "metadata": {},
   "outputs": [],
   "source": [
    "plt.figure(figsize=(15, 3))\n",
    "plt.plot(t, s[0,:], lw=1);"
   ]
  },
  {
   "cell_type": "markdown",
   "metadata": {},
   "source": [
    "%%"
   ]
  }
 ],
 "metadata": {
  "language_info": {
   "name": "python"
  }
 },
 "nbformat": 4,
 "nbformat_minor": 2
}
