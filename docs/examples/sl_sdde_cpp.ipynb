{
 "cells": [
  {
   "cell_type": "code",
   "execution_count": null,
   "metadata": {},
   "outputs": [],
   "source": [
    "import vbi\n",
    "import numpy as np\n",
    "import matplotlib.pyplot as plt\n",
    "from helpers import plot_ts_pxx_sl\n",
    "from vbi.models.cpp.sl import SL_sdde"
   ]
  },
  {
   "cell_type": "code",
   "execution_count": null,
   "metadata": {},
   "outputs": [],
   "source": [
    "seed = 2\n",
    "np.random.seed(seed)"
   ]
  },
  {
   "cell_type": "code",
   "execution_count": null,
   "metadata": {},
   "outputs": [],
   "source": [
    "LABESSIZE = 14\n",
    "plt.rcParams['axes.labelsize'] = LABESSIZE\n",
    "plt.rcParams['xtick.labelsize'] = LABESSIZE\n",
    "plt.rcParams['ytick.labelsize'] = LABESSIZE"
   ]
  },
  {
   "cell_type": "code",
   "execution_count": null,
   "metadata": {},
   "outputs": [],
   "source": [
    "ds = vbi.LoadSample(nn=84)"
   ]
  },
  {
   "cell_type": "code",
   "execution_count": null,
   "metadata": {},
   "outputs": [],
   "source": [
    "weights = ds.get_weights(normalize=True)\n",
    "distances = ds.get_lengths() / 1000  # [m]\n",
    "nn = weights.shape[0]"
   ]
  },
  {
   "cell_type": "code",
   "execution_count": null,
   "metadata": {},
   "outputs": [],
   "source": [
    "params = {\n",
    "    \"G\": 1000.0,\n",
    "    \"a\": -5.0,\n",
    "    \"dt\": 1e-4,\n",
    "    \"weights\": weights,\n",
    "    \"distances\": distances,  # [m]\n",
    "    \"velocity\": 6.0,         # [m/s]\n",
    "    \"omega\": 40*2*np.pi * np.ones(nn),\n",
    "    'sigma_r': 1e-4,              # noise strength\n",
    "    'sigma_v': 1e-4,              # noise strength\n",
    "    \"record_step\": 2,\n",
    "    \"t_initial\": 0.0,\n",
    "    \"t_transition\": 2.0,\n",
    "    \"t_end\": 10.0,\n",
    "    \"seed\": 2,\n",
    "}"
   ]
  },
  {
   "cell_type": "code",
   "execution_count": null,
   "metadata": {},
   "outputs": [],
   "source": [
    "obj = SL_sdde(params)\n",
    "data = obj.run()"
   ]
  },
  {
   "cell_type": "code",
   "execution_count": null,
   "metadata": {},
   "outputs": [],
   "source": [
    "plot_ts_pxx_sl(data, params, color=\"k\")\n",
    "plt.show()"
   ]
  }
 ],
 "metadata": {
  "language_info": {
   "name": "python"
  }
 },
 "nbformat": 4,
 "nbformat_minor": 2
}
