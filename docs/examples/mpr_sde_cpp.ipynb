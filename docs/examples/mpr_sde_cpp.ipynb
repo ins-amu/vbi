{
 "cells": [
  {
   "cell_type": "code",
   "execution_count": null,
   "metadata": {},
   "outputs": [],
   "source": [
    "import os\n",
    "import numpy as np\n",
    "import networkx as nx\n",
    "from vbi import report_cfg\n",
    "import matplotlib.pyplot as plt\n",
    "from vbi.models.cpp.mpr import MPR_sde"
   ]
  },
  {
   "cell_type": "code",
   "execution_count": null,
   "metadata": {},
   "outputs": [],
   "source": [
    "seed = 2\n",
    "np.random.seed(seed)"
   ]
  },
  {
   "cell_type": "code",
   "execution_count": null,
   "metadata": {},
   "outputs": [],
   "source": [
    "LABESSIZE = 14\n",
    "plt.rcParams['axes.labelsize'] = LABESSIZE\n",
    "plt.rcParams['xtick.labelsize'] = LABESSIZE\n",
    "plt.rcParams['ytick.labelsize'] = LABESSIZE"
   ]
  },
  {
   "cell_type": "code",
   "execution_count": null,
   "metadata": {},
   "outputs": [],
   "source": [
    "nn = 6\n",
    "weights = nx.to_numpy_array(nx.complete_graph(nn))"
   ]
  },
  {
   "cell_type": "code",
   "execution_count": null,
   "metadata": {},
   "outputs": [],
   "source": [
    "parameters = {\n",
    "    \"G\": 0.55,                          # global coupling strength\n",
    "    \"dt\": 0.01,                         # for mpr model [ms]\n",
    "    \"dt_bold\": 0.001,                   # for Balloon model [s]\n",
    "    \"J\": 14.5,                          # model parameter\n",
    "    \"eta\": -4.6,                        # model parameter\n",
    "    \"tau\": 1.0,                         # model parameter\n",
    "    \"delta\": 0.7,                       # model parameter\n",
    "    \"decimate\": 500,                    # sampling from mpr time series\n",
    "    \"noise_amp\": 0.037,                 # amplitude of noise\n",
    "    \"iapp\": 0.0,                        # constant applyed current\n",
    "    \"t_cut\": 0.5 * 60* 1000.0,   # transition time * 10 [ms]\n",
    "    \"t_end\": 2 * 60 * 1000,             # end time * 10 [ms]\n",
    "    \"weights\": weights,                 # weighted connection matrix\n",
    "    \"seed\": seed,                       # seed for random number generator\n",
    "    \"noise_seed\": True,                 # fix seed for noise\n",
    "    \"record_step\": 10,                  # sampling every n step from mpr time series\n",
    "    \"output\": \"output\",                 # output directory\n",
    "    \"RECORD_AVG\": 0                     # true to store large time series in file\n",
    "}"
   ]
  },
  {
   "cell_type": "code",
   "execution_count": null,
   "metadata": {},
   "outputs": [],
   "source": [
    "control_dict = {\"G\": 0.5}\n",
    "obj = MPR_sde(parameters)\n",
    "# print(obj())\n",
    "sol = obj.run(par=control_dict)\n",
    "print(obj.eta)"
   ]
  },
  {
   "cell_type": "code",
   "execution_count": null,
   "metadata": {},
   "outputs": [],
   "source": [
    "t = sol[\"t\"]\n",
    "x = sol[\"x\"]"
   ]
  },
  {
   "cell_type": "code",
   "execution_count": null,
   "metadata": {},
   "outputs": [],
   "source": [
    "print(f\"t.shape = {t.shape}\")\n",
    "print(f\"x.shape = {x.shape}\")"
   ]
  },
  {
   "cell_type": "code",
   "execution_count": null,
   "metadata": {},
   "outputs": [],
   "source": [
    "if x.ndim == 2:\n",
    "    pass\n",
    "    fig, ax = plt.subplots(1, figsize=(10, 3))\n",
    "    ax.set_xlabel(\"Time [s]\")\n",
    "    ax.set_ylabel(\"BOLD\")\n",
    "    plt.plot(t/1000, x.T, alpha=0.8, lw=2)\n",
    "    plt.margins(0,0.1)\n",
    "    plt.tight_layout()\n",
    "    os.makedirs(\"output\", exist_ok=True)\n",
    "    plt.savefig(\"output/mpr_sde_ts.png\", dpi=300)\n",
    "    plt.close()\n",
    "else:\n",
    "    exit(0)"
   ]
  },
  {
   "cell_type": "markdown",
   "metadata": {},
   "source": [
    "Feature extraction ------------------------------------------------"
   ]
  },
  {
   "cell_type": "code",
   "execution_count": null,
   "metadata": {},
   "outputs": [],
   "source": [
    "from vbi.feature_extraction.features_settings import *\n",
    "from vbi.feature_extraction.calc_features import *"
   ]
  },
  {
   "cell_type": "code",
   "execution_count": null,
   "metadata": {},
   "outputs": [],
   "source": [
    "fs = 1/(parameters[\"dt_bold\"]) / 1000\n",
    "cfg = get_features_by_domain(domain=\"connectivity\")\n",
    "report_cfg(cfg)\n",
    "data = extract_features_df([x], fs, cfg=cfg, n_workers=1)\n",
    "print(data.values.shape)"
   ]
  }
 ],
 "metadata": {
  "language_info": {
   "name": "python"
  }
 },
 "nbformat": 4,
 "nbformat_minor": 2
}
