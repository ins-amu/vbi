{
 "cells": [
  {
   "cell_type": "markdown",
   "metadata": {},
   "source": [
    "Montbrio SDE model using Cupy"
   ]
  },
  {
   "cell_type": "code",
   "execution_count": 1,
   "metadata": {},
   "outputs": [],
   "source": [
    "import numpy as np\n",
    "import networkx as nx\n",
    "import matplotlib.pyplot as plt\n",
    "from vbi.models.cupy.mpr import MPR_sde"
   ]
  },
  {
   "cell_type": "code",
   "execution_count": 2,
   "metadata": {},
   "outputs": [],
   "source": [
    "seed = 42\n",
    "np.random.seed(seed)"
   ]
  },
  {
   "cell_type": "code",
   "execution_count": 3,
   "metadata": {},
   "outputs": [],
   "source": [
    "LABESSIZE = 10\n",
    "plt.rcParams['axes.labelsize'] = LABESSIZE\n",
    "plt.rcParams['xtick.labelsize'] = LABESSIZE\n",
    "plt.rcParams['ytick.labelsize'] = LABESSIZE"
   ]
  },
  {
   "cell_type": "code",
   "execution_count": 4,
   "metadata": {},
   "outputs": [],
   "source": [
    "nn = 6\n",
    "weights = nx.to_numpy_array(nx.complete_graph(nn))\n",
    "# weights = np.loadtxt('data/weights_68.txt')\n",
    "# nn = weights.shape[0]"
   ]
  },
  {
   "cell_type": "code",
   "execution_count": 5,
   "metadata": {},
   "outputs": [
    {
     "name": "stderr",
     "output_type": "stream",
     "text": [
      "Integrating: 100%|██████████| 99999/99999 [00:06<00:00, 14697.21it/s]\n"
     ]
    }
   ],
   "source": [
    "par = {\n",
    "    \"G\": 0.34,              # global coupling strength\n",
    "    \"weights\": weights,     # connection matrix\n",
    "    \"method\": \"heun\",       # integration method\n",
    "    \"t_cut\": 0,   # [ms]\n",
    "    \"dt\": 0.01,\n",
    "    \"t_end\": 10_000,        # [ms]\n",
    "    \"num_sim\": 1,           # number of simulations\n",
    "    \"tr\": 300.0,\n",
    "    \"rv_decimate\": 10,\n",
    "    \"engine\": \"cpu\",        # cpu or gpu\n",
    "    \"seed\": seed,           # seed for random number generator\n",
    "    \"RECORD_RV\": True,\n",
    "    \"RECORD_BOLD\": False,\n",
    "}\n",
    "obj = MPR_sde(par)\n",
    "# print(obj())\n",
    "sol = obj.run()"
   ]
  },
  {
   "cell_type": "code",
   "execution_count": 6,
   "metadata": {},
   "outputs": [],
   "source": [
    "rv_t = sol[\"rv_t\"]\n",
    "rv_d = sol[\"rv_d\"]\n",
    "fmri_d = sol[\"fmri_d\"]\n",
    "fmri_t = sol[\"fmri_t\"]"
   ]
  },
  {
   "cell_type": "code",
   "execution_count": 8,
   "metadata": {},
   "outputs": [
    {
     "name": "stdout",
     "output_type": "stream",
     "text": [
      "[] [1. 1.]\n",
      "0 0\n"
     ]
    }
   ],
   "source": [
    "# np.isnan(fmri_d[:-1,:,0]).sum()\n",
    "print(np.diff(fmri_t)[:2], np.diff(rv_t)[:2])\n",
    "print(np.isnan(fmri_d).sum(), np.isnan(rv_d).sum())"
   ]
  },
  {
   "cell_type": "code",
   "execution_count": 9,
   "metadata": {},
   "outputs": [
    {
     "name": "stdout",
     "output_type": "stream",
     "text": [
      "rv_t.shape = (10000,)\n",
      "rv_d.shape = (10000, 12, 1)\n",
      "fmri_d.shape = (0,)\n",
      "fmri_t.shape = (0,)\n"
     ]
    }
   ],
   "source": [
    "print(f\"rv_t.shape = {rv_t.shape}\")\n",
    "print(f\"rv_d.shape = {rv_d.shape}\")\n",
    "print(f\"fmri_d.shape = {fmri_d.shape}\")\n",
    "print(f\"fmri_t.shape = {fmri_t.shape}\")"
   ]
  },
  {
   "cell_type": "code",
   "execution_count": 10,
   "metadata": {},
   "outputs": [],
   "source": [
    "if fmri_d.ndim == 3:\n",
    "    fig, ax = plt.subplots(3, figsize=(10, 5), sharex=True)\n",
    "    ax[0].set_ylabel(\"BOLD\")\n",
    "    ax[0].plot(fmri_t, fmri_d[:,:,0], lw=0.1)\n",
    "    ax[0].margins(0, 0.1)\n",
    "    ax[1].plot(rv_t, rv_d[:, :nn, 0], lw=0.1)\n",
    "    ax[2].plot(rv_t, rv_d[:, nn:, 0], lw=0.1)\n",
    "    ax[1].set_ylabel(\"r\")\n",
    "    ax[2].set_ylabel(\"v\")\n",
    "    ax[2].set_xlabel(\"Time [s]\")\n",
    "    ax[1].margins(0, 0.01)\n",
    "    # plt.savefig(\"mpr.png\")\n",
    "    plt.tight_layout()\n",
    "    plt.show()\n"
   ]
  },
  {
   "cell_type": "code",
   "execution_count": null,
   "metadata": {},
   "outputs": [],
   "source": []
  },
  {
   "cell_type": "code",
   "execution_count": null,
   "metadata": {},
   "outputs": [],
   "source": []
  }
 ],
 "metadata": {
  "language_info": {
   "name": "python"
  }
 },
 "nbformat": 4,
 "nbformat_minor": 2
}
