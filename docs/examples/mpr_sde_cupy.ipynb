{
 "cells": [
  {
   "cell_type": "code",
   "execution_count": null,
   "metadata": {},
   "outputs": [],
   "source": [
    "import numpy as np\n",
    "import networkx as nx\n",
    "import matplotlib.pyplot as plt\n",
    "from vbi.models.cupy.mpr import MPR_sde"
   ]
  },
  {
   "cell_type": "code",
   "execution_count": null,
   "metadata": {},
   "outputs": [],
   "source": [
    "seed = 2\n",
    "np.random.seed(seed)"
   ]
  },
  {
   "cell_type": "code",
   "execution_count": null,
   "metadata": {},
   "outputs": [],
   "source": [
    "LABESSIZE = 14\n",
    "plt.rcParams['axes.labelsize'] = LABESSIZE\n",
    "plt.rcParams['xtick.labelsize'] = LABESSIZE\n",
    "plt.rcParams['ytick.labelsize'] = LABESSIZE"
   ]
  },
  {
   "cell_type": "code",
   "execution_count": null,
   "metadata": {},
   "outputs": [],
   "source": [
    "nn = 6\n",
    "weights = nx.to_numpy_array(nx.complete_graph(nn))"
   ]
  },
  {
   "cell_type": "code",
   "execution_count": null,
   "metadata": {},
   "outputs": [],
   "source": [
    "par = {\n",
    "    \"G\": 0.25,              # global coupling strength\n",
    "    \"weights\": weights,     # connection matrix\n",
    "    \"method\": \"heun\",       # integration method\n",
    "    \"t_cut\": 2000,   # [ms]\n",
    "    \"t_end\": 30_000,        # [ms]\n",
    "    \"num_sim\": 1,           # number of simulations\n",
    "    \"engine\": \"cpu\",        # cpu or gpu\n",
    "    \"seed\": seed,           # seed for random number generator\n",
    "    \"RECORD_TS\": True,\n",
    "}\n",
    "obj = MPR_sde(par)\n",
    "# print(obj())\n",
    "sol = obj.run()"
   ]
  },
  {
   "cell_type": "code",
   "execution_count": null,
   "metadata": {},
   "outputs": [],
   "source": [
    "rv_t = sol[\"rv_t\"]\n",
    "rv_d = sol[\"rv_d\"]\n",
    "fmri_d = sol[\"fmri_d\"]\n",
    "fmri_t = sol[\"fmri_t\"]"
   ]
  },
  {
   "cell_type": "code",
   "execution_count": null,
   "metadata": {},
   "outputs": [],
   "source": [
    "print(f\"rv_t.shape = {rv_t.shape}\")\n",
    "print(f\"rv_d.shape = {rv_d.shape}\")\n",
    "print(f\"fmri_d.shape = {fmri_d.shape}\")\n",
    "print(f\"fmri_t.shape = {fmri_t.shape}\")\n",
    "# print(f\"rv_t = {rv_t}\")\n",
    "# print(f\"fmri_t = {fmri_t}\")"
   ]
  },
  {
   "cell_type": "code",
   "execution_count": null,
   "metadata": {},
   "outputs": [],
   "source": [
    "if fmri_d.ndim == 3:\n",
    "    fig, ax = plt.subplots(3, figsize=(10, 5), sharex=True)\n",
    "    ax[0].set_ylabel(\"BOLD\")\n",
    "    ax[0].plot(fmri_t/1000, fmri_d[:,:,0], alpha=0.8, lw=2)\n",
    "    ax[0].margins(0, 0.1)\n",
    "    ax[1].plot(rv_t/1000, rv_d[:, :nn, 0], alpha=0.8, lw=0.5)\n",
    "    ax[2].plot(rv_t/1000, rv_d[:, nn:, 0], alpha=0.8, lw=0.5)\n",
    "    ax[1].set_ylabel(\"r\")\n",
    "    ax[2].set_ylabel(\"v\")\n",
    "    ax[2].set_xlabel(\"Time [s]\")\n",
    "    ax[1].margins(0, 0.01)\n",
    "    plt.tight_layout()\n",
    "    plt.show()"
   ]
  }
 ],
 "metadata": {
  "language_info": {
   "name": "python"
  }
 },
 "nbformat": 4,
 "nbformat_minor": 2
}
