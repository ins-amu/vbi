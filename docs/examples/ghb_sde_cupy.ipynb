{
 "cells": [
  {
   "cell_type": "code",
   "execution_count": null,
   "metadata": {},
   "outputs": [],
   "source": [
    "import numpy as np\n",
    "from vbi import LoadSample\n",
    "import matplotlib.pyplot as plt\n",
    "from numpy.random import uniform\n",
    "from vbi.models.cupy.ghb import GHB_sde"
   ]
  },
  {
   "cell_type": "code",
   "execution_count": null,
   "metadata": {},
   "outputs": [],
   "source": [
    "seed = 2\n",
    "np.random.seed(seed)"
   ]
  },
  {
   "cell_type": "code",
   "execution_count": null,
   "metadata": {},
   "outputs": [],
   "source": [
    "LABESSIZE = 14\n",
    "plt.rcParams[\"axes.labelsize\"] = LABESSIZE\n",
    "plt.rcParams[\"xtick.labelsize\"] = LABESSIZE\n",
    "plt.rcParams[\"ytick.labelsize\"] = LABESSIZE"
   ]
  },
  {
   "cell_type": "code",
   "execution_count": null,
   "metadata": {},
   "outputs": [],
   "source": [
    "weights = LoadSample(nn=84).get_weights()\n",
    "nn = len(weights)"
   ]
  },
  {
   "cell_type": "code",
   "execution_count": null,
   "metadata": {},
   "outputs": [],
   "source": [
    "freq = uniform(0.02, 0.04, nn)\n",
    "omega = 2 * np.pi * freq"
   ]
  },
  {
   "cell_type": "code",
   "execution_count": null,
   "metadata": {},
   "outputs": [],
   "source": [
    "eta_mu = -1.\n",
    "eta_std = 1.\n",
    "eta_heter_rnd = np.random.randn(nn)\n",
    "eta = eta_mu+eta_std * eta_heter_rnd"
   ]
  },
  {
   "cell_type": "code",
   "execution_count": null,
   "metadata": {},
   "outputs": [],
   "source": [
    "Gs = np.linspace(1, 25, 3)\n",
    "num_sim = len(Gs)"
   ]
  },
  {
   "cell_type": "code",
   "execution_count": null,
   "metadata": {},
   "outputs": [],
   "source": [
    "params = {\n",
    "    \"eta\": eta,\n",
    "    \"dt\": 0.01,\n",
    "    \"num_sim\": num_sim,\n",
    "    \"sigma\": 0.1,\n",
    "    \"t_cut\": 10.0,\n",
    "    \"t_end\": 60.0,\n",
    "    \"G\": Gs,\n",
    "    \"decimate\": 10,\n",
    "    \"omega\": omega,\n",
    "    \"engine\": \"gpu\",\n",
    "    \"weights\": weights,\n",
    "    \"initial_state\": uniform(0, 1, (2 * nn, num_sim)),\n",
    "}"
   ]
  },
  {
   "cell_type": "code",
   "execution_count": null,
   "metadata": {},
   "outputs": [],
   "source": [
    "obj = GHB_sde(params)\n",
    "data = obj.run()\n",
    "t = data['t']\n",
    "bold = data['bold']\n",
    "print(t.shape, bold.shape)"
   ]
  },
  {
   "cell_type": "code",
   "execution_count": null,
   "metadata": {},
   "outputs": [],
   "source": [
    "num_sim = 3\n",
    "fig, ax = plt.subplots(num_sim, figsize=(10, 6), sharex=True)\n",
    "for i in range(num_sim):\n",
    "    ax[i].plot(t, bold[:, :, i].T, lw=1, alpha=0.2, color='teal')\n",
    "    ax[i].set_ylabel(\"BOLD\")\n",
    "ax[-1].set_xlabel(\"Time (s)\")\n",
    "ax[0].margins(x=0)\n",
    "plt.show()"
   ]
  }
 ],
 "metadata": {
  "language_info": {
   "name": "python"
  }
 },
 "nbformat": 4,
 "nbformat_minor": 2
}
