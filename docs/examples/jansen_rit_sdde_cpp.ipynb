{
 "cells": [
  {
   "cell_type": "code",
   "execution_count": null,
   "metadata": {},
   "outputs": [],
   "source": [
    "import torch\n",
    "import pickle\n",
    "import numpy as np\n",
    "from tqdm import tqdm\n",
    "import networkx as nx\n",
    "import sbi.utils as utils\n",
    "import matplotlib.pyplot as plt\n",
    "from multiprocessing import Pool\n",
    "from sbi.analysis import pairplot\n",
    "from vbi.inference import Inference\n",
    "from sklearn.preprocessing import StandardScaler\n",
    "from vbi.models.cpp.jansen_rit import JR_sdde\n",
    "from helpers import *"
   ]
  },
  {
   "cell_type": "code",
   "execution_count": null,
   "metadata": {},
   "outputs": [],
   "source": [
    "from vbi import extract_features_list\n",
    "from vbi import get_features_by_domain, get_features_by_given_names"
   ]
  },
  {
   "cell_type": "code",
   "execution_count": null,
   "metadata": {},
   "outputs": [],
   "source": [
    "LABESSIZE = 12\n",
    "plt.rcParams['axes.labelsize'] = LABESSIZE\n",
    "plt.rcParams['xtick.labelsize'] = LABESSIZE\n",
    "plt.rcParams['ytick.labelsize'] = LABESSIZE"
   ]
  },
  {
   "cell_type": "code",
   "execution_count": null,
   "metadata": {},
   "outputs": [],
   "source": [
    "seed = 2\n",
    "np.random.seed(seed)\n",
    "torch.manual_seed(seed)"
   ]
  },
  {
   "cell_type": "code",
   "execution_count": null,
   "metadata": {},
   "outputs": [],
   "source": [
    "N = 8\n",
    "adj = nx.to_numpy_array(nx.complete_graph(N), dtype=float)\n",
    "delays = np.ones_like(adj) * 2  # arbitrary delay\n",
    "np.fill_diagonal(delays, 0.0)"
   ]
  },
  {
   "cell_type": "code",
   "execution_count": null,
   "metadata": {},
   "outputs": [],
   "source": [
    "param = {\n",
    "    \"dt\": 0.1,                     # time step\n",
    "    \"G\": 0.1,                       # coupling strength\n",
    "    \"mu\": 0.22,                     # mean of the input\n",
    "    \"sigma\": 0.005,                 # noise amplitude\n",
    "    \"C0\": 135.0 * 1.0,\n",
    "    \"C1\": 135.0 * 0.8,\n",
    "    \"C2\": 135.0 * 0.25,\n",
    "    \"C3\": 135.0 * 0.25,\n",
    "    \"t_end\": 2000.0,                # simulation time\n",
    "    \"t_transition\": 1000.0,          # transition time\n",
    "    \"weights\": adj,                 # adjacency matrix\n",
    "    \"delays\": delays,               # delay matrix\n",
    "    \"method\": \"heun\",\n",
    "\n",
    "    # stimulation\n",
    "    # \"sti_ti\": 1000 + 100,\n",
    "    # \"sti_duration\": 10,\n",
    "    # \"sti_gain\": 0.5,\n",
    "    # \"sti_amplitude\": 0.1* np.ones(8), # or just 0.1\n",
    "}"
   ]
  },
  {
   "cell_type": "code",
   "execution_count": null,
   "metadata": {},
   "outputs": [],
   "source": [
    "theta_true = {\n",
    "    \"G\": {\"value\": 1.0},\n",
    "    \"C1\": {\"indices\": [[0], [2, 3]], \"value\": [150.0, 160.0]}\n",
    "}"
   ]
  },
  {
   "cell_type": "code",
   "execution_count": null,
   "metadata": {},
   "outputs": [],
   "source": [
    "obj = JR_sdde(param)\n",
    "data = obj.run(par=theta_true)\n",
    "t = data['t']\n",
    "x = data['x']\n",
    "sti = data['sti']\n",
    "# print(obj.C1, obj.sti_amplitude)"
   ]
  },
  {
   "cell_type": "code",
   "execution_count": null,
   "metadata": {},
   "outputs": [],
   "source": [
    "if 0:  # plot stimulation signal\n",
    "    plt.figure(figsize=(6, 2.5))\n",
    "    plt.plot(data['t'], data['sti'])\n",
    "    plt.xlabel('time(ms)')\n",
    "    plt.ylabel('sti amplitude')\n",
    "    plt.tight_layout()\n",
    "    plt.show()"
   ]
  },
  {
   "cell_type": "code",
   "execution_count": null,
   "metadata": {},
   "outputs": [],
   "source": [
    "if 1:  # plot time series\n",
    "    fig, ax = plt.subplots(1, 2, figsize=(9, 4))\n",
    "    plot_ts_jr(data, param, [ax[0], ax[1]], alpha=0.6, lw=1)\n",
    "    plt.savefig(\"output/jr_sdde_cpu.jpeg\", dpi=300)"
   ]
  },
  {
   "cell_type": "code",
   "execution_count": null,
   "metadata": {},
   "outputs": [],
   "source": [
    "cfg = get_features_by_domain(domain=\"statistical\")\n",
    "cfg = get_features_by_given_names(cfg, names=['calc_std', 'calc_mean'])\n",
    "# report_cfg(cfg)"
   ]
  },
  {
   "cell_type": "code",
   "execution_count": null,
   "metadata": {},
   "outputs": [],
   "source": [
    "def wrapper(par, control, cfg, verbose=False):\n",
    "    ode = JR_sdde_cpp(par)\n",
    "    sol = ode.run(control)\n",
    "\n",
    "    # extract features\n",
    "    fs = 1.0 / par['dt'] * 1000  # [Hz]\n",
    "    stat_vec = extract_features_list(ts=[sol['x']],\n",
    "                                      cfg=cfg,\n",
    "                                      fs=fs,\n",
    "                                      n_workers=1,\n",
    "                                      verbose=verbose).values\n",
    "    return stat_vec[0]"
   ]
  },
  {
   "cell_type": "code",
   "execution_count": null,
   "metadata": {},
   "outputs": [],
   "source": [
    "def batch_run(par, control_list, cfg, n_workers=1):\n",
    "    stat_vec = []\n",
    "    n = len(control_list)\n",
    "    def update_bar(_):\n",
    "        pbar.update()\n",
    "    with Pool(processes=n_workers) as pool:\n",
    "        with tqdm(total=n) as pbar:\n",
    "            async_results = [pool.apply_async(wrapper,\n",
    "                                              args=(\n",
    "                                                  par, control_list[i], cfg, False),\n",
    "                                              callback=update_bar)\n",
    "                             for i in range(n)]\n",
    "            stat_vec = [res.get() for res in async_results]\n",
    "    return stat_vec"
   ]
  },
  {
   "cell_type": "code",
   "execution_count": null,
   "metadata": {},
   "outputs": [],
   "source": [
    "num_sim = 200\n",
    "num_workers = 10\n",
    "C11_min, C11_max = 130.0, 300.0\n",
    "C12_min, C12_max = 130.0, 300.0\n",
    "G_min, G_max = 0.0, 5.0\n",
    "prior_min = [G_min, C11_min, C12_min]\n",
    "prior_max = [G_max, C11_max, C12_max]\n",
    "prior = utils.BoxUniform(low=torch.tensor(prior_min),\n",
    "                         high=torch.tensor(prior_max))"
   ]
  },
  {
   "cell_type": "code",
   "execution_count": null,
   "metadata": {},
   "outputs": [],
   "source": [
    "obj = Inference()\n",
    "theta = obj.sample_prior(prior, num_sim)\n",
    "theta_np = theta.numpy().astype(float)\n",
    "control_list = [{\"G\": {\"value\": theta_np[i, 0]},\n",
    "                 \"C1\": {\"indices\": [[0], [2, 3]], \"value\": [theta_np[i, 1], theta_np[i, 2]]}}\n",
    "                for i in range(num_sim)]"
   ]
  },
  {
   "cell_type": "code",
   "execution_count": null,
   "metadata": {},
   "outputs": [],
   "source": [
    "stat_vec = batch_run(param, control_list, cfg, num_workers)"
   ]
  },
  {
   "cell_type": "code",
   "execution_count": null,
   "metadata": {},
   "outputs": [],
   "source": [
    "scaler = StandardScaler()\n",
    "stat_vec_st = scaler.fit_transform(np.array(stat_vec))\n",
    "stat_vec_st = torch.tensor(stat_vec_st, dtype=torch.float32)\n",
    "torch.save(theta, 'output/theta.pt')\n",
    "torch.save(stat_vec, 'output/stat_vec.pt')"
   ]
  },
  {
   "cell_type": "code",
   "execution_count": null,
   "metadata": {},
   "outputs": [],
   "source": [
    "print(theta.shape, stat_vec_st.shape)"
   ]
  },
  {
   "cell_type": "code",
   "execution_count": null,
   "metadata": {},
   "outputs": [],
   "source": [
    "posterior = obj.train(theta, stat_vec_st, prior, method='SNPE', density_estimator='maf')"
   ]
  },
  {
   "cell_type": "code",
   "execution_count": null,
   "metadata": {},
   "outputs": [],
   "source": [
    "with open('output/posterior.pkl', 'wb') as f:\n",
    "    pickle.dump(posterior, f)"
   ]
  },
  {
   "cell_type": "code",
   "execution_count": null,
   "metadata": {},
   "outputs": [],
   "source": [
    "with open('output/posterior.pkl', 'rb') as f:\n",
    "    posterior = pickle.load(f)"
   ]
  },
  {
   "cell_type": "code",
   "execution_count": null,
   "metadata": {},
   "outputs": [],
   "source": [
    "xo = wrapper(param, theta_true, cfg)\n",
    "xo_st = scaler.transform(xo.reshape(1, -1))"
   ]
  },
  {
   "cell_type": "code",
   "execution_count": null,
   "metadata": {},
   "outputs": [],
   "source": [
    "samples = obj.sample_posterior(xo_st, 10000, posterior)\n",
    "torch.save(samples, 'output/samples.pt')"
   ]
  },
  {
   "cell_type": "code",
   "execution_count": null,
   "metadata": {},
   "outputs": [],
   "source": [
    "limits = [[i, j] for i, j in zip(prior_min, prior_max)]\n",
    "points = [[theta_true['G']['value'], theta_true['C1']['value'][0], theta_true['C1']['value'][1]]]\n",
    "fig, ax = pairplot(\n",
    "    samples,\n",
    "    limits=limits,\n",
    "    fig_size=(5, 5),\n",
    "    points=points,\n",
    "    labels=[\"G\", \"C11\", \"C12\"],\n",
    "    offdiag='kde',\n",
    "    diag='kde',\n",
    "    points_colors=\"r\",\n",
    "    samples_colors=\"k\",\n",
    "    points_offdiag={'markersize': 10})\n",
    "ax[0,0].tick_params(labelsize=14)\n",
    "ax[0,0].margins(y=0)\n",
    "plt.tight_layout()\n",
    "fig.savefig(\"output/tri_jr_sdde_cpu.jpeg\", dpi=300)"
   ]
  }
 ],
 "metadata": {
  "language_info": {
   "name": "python"
  }
 },
 "nbformat": 4,
 "nbformat_minor": 2
}
