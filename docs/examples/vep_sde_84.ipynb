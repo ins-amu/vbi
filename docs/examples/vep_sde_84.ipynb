{
 "cells": [
  {
   "cell_type": "code",
   "execution_count": null,
   "metadata": {},
   "outputs": [],
   "source": [
    "import os\n",
    "import tqdm\n",
    "import torch\n",
    "import pickle\n",
    "import numpy as np\n",
    "import networkx as nx\n",
    "from os.path import join\n",
    "import sbi.utils as utils\n",
    "from vbi import report_cfg\n",
    "import matplotlib.pyplot as plt\n",
    "from vbi.utils import LoadSample\n",
    "from sbi.analysis import pairplot\n",
    "from vbi.models.cpp.vep import VEP\n",
    "from vbi.inference import Inference\n",
    "from sklearn.preprocessing import StandardScaler"
   ]
  },
  {
   "cell_type": "code",
   "execution_count": null,
   "metadata": {},
   "outputs": [],
   "source": [
    "seed = 2\n",
    "np.random.seed(seed)\n",
    "torch.manual_seed(seed)\n",
    "path = \"output/vep84\"\n",
    "os.makedirs(path, exist_ok=True)"
   ]
  },
  {
   "cell_type": "code",
   "execution_count": null,
   "metadata": {},
   "outputs": [],
   "source": [
    "weights = np.loadtxt(\"data/weights1.txt\")\n",
    "nn = weights.shape[0]"
   ]
  },
  {
   "cell_type": "markdown",
   "metadata": {},
   "source": [
    "healthy zone, propagation zone, epileptic zone eta values"
   ]
  },
  {
   "cell_type": "code",
   "execution_count": null,
   "metadata": {},
   "outputs": [],
   "source": [
    "hz_val = -3.65\n",
    "pz_val = -2.4\n",
    "ez_val = -1.6"
   ]
  },
  {
   "cell_type": "code",
   "execution_count": null,
   "metadata": {},
   "outputs": [],
   "source": [
    "ez_idx = np.array([6, 34], dtype=np.int32)\n",
    "pz_wplng_idx = np.array([5, 11], dtype=np.int32)\n",
    "pz_kplng_idx = np.array([27], dtype=np.int32)\n",
    "pz_idx = np.append(pz_kplng_idx, pz_wplng_idx)"
   ]
  },
  {
   "cell_type": "markdown",
   "metadata": {},
   "source": [
    "eta_true = np.ones(nn) * hz_val<br>\n",
    "eta_true[pz_idx] = pz_val<br>\n",
    "eta_true[ez_idx] = ez_val"
   ]
  },
  {
   "cell_type": "code",
   "execution_count": null,
   "metadata": {},
   "outputs": [],
   "source": [
    "initial_state = np.zeros(2 * nn)\n",
    "initial_state[:nn] = -2.5\n",
    "initial_state[nn:] = 3.5\n",
    "# --------------------------------------------------------------------------- #"
   ]
  },
  {
   "cell_type": "code",
   "execution_count": null,
   "metadata": {},
   "outputs": [],
   "source": [
    "params = {\n",
    "    \"G\": 1.0,\n",
    "    \"seed\": seed,\n",
    "    \"initial_state\": initial_state,\n",
    "    \"weights\": weights,\n",
    "    \"tau\": 10.0,\n",
    "    \"eta\": -3.5,\n",
    "    \"noise_sigma\": 0.0,\n",
    "    \"iext\": 3.1,\n",
    "    \"dt\": 0.1,\n",
    "    \"tend\": 14.0,\n",
    "    \"tcut\": 1.0,\n",
    "    \"noise_seed\": 0,\n",
    "    \"record_step\": 1,\n",
    "    \"method\": \"heun\",\n",
    "    \"output\": \"output\",\n",
    "}"
   ]
  },
  {
   "cell_type": "code",
   "execution_count": null,
   "metadata": {},
   "outputs": [],
   "source": [
    "obj = VEP(params)\n",
    "g_true = 1.0\n",
    "eta_true = np.ones(nn) * hz_val\n",
    "eta_true[pz_idx] = pz_val\n",
    "eta_true[ez_idx] = ez_val\n",
    "control_true = {\"eta\": eta_true, \"G\": g_true}"
   ]
  },
  {
   "cell_type": "markdown",
   "metadata": {},
   "source": [
    "data = obj.run(par=control_true)<br>\n",
    "ts = data[\"x\"]<br>\n",
    "t = data[\"t\"]"
   ]
  },
  {
   "cell_type": "markdown",
   "metadata": {},
   "source": [
    "if 0:<br>\n",
    "    plt.figure(figsize=(10, 16))<br>\n",
    "    for i in range(0, nn):<br>\n",
    "        if i in ez_idx:<br>\n",
    "            plt.plot(t, ts[i, :] + i, \"r\", lw=3)<br>\n",
    "        elif i in pz_idx:<br>\n",
    "            plt.plot(t, ts[i, :] + i, \"orange\", lw=3)<br>\n",
    "        else:<br>\n",
    "            plt.plot(t, ts[i, :] + i, \"g\")<br>\n",
    "    plt.yticks(np.r_[0:nn] - 2, np.r_[0:nn], fontsize=10)<br>\n",
    "    plt.xticks(fontsize=16)<br>\n",
    "    plt.title(\"Source brain activity\", fontsize=18)<br>\n",
    "    plt.xlabel(\"Time\", fontsize=22)<br>\n",
    "    plt.ylabel(\"Brain Regions#\", fontsize=22)<br>\n",
    "    plt.tight_layout()<br>\n",
    "    plt.savefig(\"output/vep_sde.png\", dpi=300)<br>\n",
    "    plt.show()"
   ]
  },
  {
   "cell_type": "code",
   "execution_count": null,
   "metadata": {},
   "outputs": [],
   "source": [
    "from vbi.feature_extraction.features_settings import *\n",
    "from vbi.feature_extraction.calc_features import *"
   ]
  },
  {
   "cell_type": "code",
   "execution_count": null,
   "metadata": {},
   "outputs": [],
   "source": [
    "fs = 1 / (params[\"dt\"]) / 1000\n",
    "cfg = get_features_by_domain(domain=\"statistical\")\n",
    "# cfg = get_features_by_given_names(cfg, names=[\"calc_moments\"])\n",
    "cfg = get_features_by_given_names(cfg, names=[\"auc\"])\n",
    "# report_cfg(cfg)"
   ]
  },
  {
   "cell_type": "markdown",
   "metadata": {},
   "source": [
    "data = extract_features_df([ts], fs, cfg=cfg, n_workers=1)<br>\n",
    "print(data.values.shape)"
   ]
  },
  {
   "cell_type": "code",
   "execution_count": null,
   "metadata": {},
   "outputs": [],
   "source": [
    "def wrapper(params, control, x0, cfg, verbose=False):\n",
    "    vep_obj = VEP(params)\n",
    "    sol = vep_obj.run(control, x0=x0)\n",
    "\n",
    "    # extract features\n",
    "    fs = 1.0 / params[\"dt\"] * 1000  # [Hz]\n",
    "    stat_vec = extract_features(\n",
    "        ts=[sol[\"x\"]], cfg=cfg, fs=fs, n_workers=1, verbose=verbose\n",
    "    ).values[0]\n",
    "    return stat_vec"
   ]
  },
  {
   "cell_type": "code",
   "execution_count": null,
   "metadata": {},
   "outputs": [],
   "source": [
    "def batch_run(params, control_list, x0, cfg, n_workers=1):\n",
    "    n = len(control_list)\n",
    "    def update_bar(_):\n",
    "        pbar.update()\n",
    "    with Pool(processes=n_workers) as pool:\n",
    "        with tqdm.tqdm(total=n) as pbar:\n",
    "            async_results = [\n",
    "                pool.apply_async(\n",
    "                    wrapper,\n",
    "                    args=(params, control_list[i], x0, cfg, False),\n",
    "                    callback=update_bar,\n",
    "                )\n",
    "                for i in range(n)\n",
    "            ]\n",
    "            stat_vec = [res.get() for res in async_results]\n",
    "    return stat_vec"
   ]
  },
  {
   "cell_type": "markdown",
   "metadata": {},
   "source": [
    "x_ = wrapper(params, control_true, cfg)"
   ]
  },
  {
   "cell_type": "code",
   "execution_count": null,
   "metadata": {},
   "outputs": [],
   "source": [
    "num_sim = 5000\n",
    "num_workers = 10\n",
    "eta_min, eta_max = -5.0, -1.0\n",
    "gmin, gmax = 0.0, 2.0"
   ]
  },
  {
   "cell_type": "code",
   "execution_count": null,
   "metadata": {},
   "outputs": [],
   "source": [
    "prior_min = [gmin] + [eta_min] * nn\n",
    "prior_max = [gmax] + [eta_max] * nn\n",
    "prior = utils.BoxUniform(low=torch.tensor(prior_min), high=torch.tensor(prior_max))"
   ]
  },
  {
   "cell_type": "code",
   "execution_count": null,
   "metadata": {},
   "outputs": [],
   "source": [
    "obj = Inference()\n",
    "theta = obj.sample_prior(prior, num_sim)\n",
    "theta_np = theta.numpy().astype(float)\n",
    "print(theta_np.shape)"
   ]
  },
  {
   "cell_type": "code",
   "execution_count": null,
   "metadata": {},
   "outputs": [],
   "source": [
    "control_list = []\n",
    "for i in range(num_sim):\n",
    "    g_ = theta_np[i, 0]\n",
    "    eta_ = theta_np[i, 1:]\n",
    "    control_list.append({\"eta\": eta_, \"G\": g_})"
   ]
  },
  {
   "cell_type": "markdown",
   "metadata": {},
   "source": [
    "control_list = [{'eta': theta_np[i, 1:], \"G\": theta_np[i, 0]} for i in range(num_sim)]"
   ]
  },
  {
   "cell_type": "code",
   "execution_count": null,
   "metadata": {},
   "outputs": [],
   "source": [
    "stat_vec = batch_run(params, control_list, initial_state, cfg, num_workers)"
   ]
  },
  {
   "cell_type": "code",
   "execution_count": null,
   "metadata": {},
   "outputs": [],
   "source": [
    "scalar = StandardScaler()\n",
    "stat_vec_st = scalar.fit_transform(np.array(stat_vec))\n",
    "stat_vec_st = torch.tensor(stat_vec_st, dtype=torch.float32)\n",
    "torch.save(theta, join(path, \"theta.pt\"))\n",
    "torch.save(stat_vec, join(path,\"stat_vec.pt\"))"
   ]
  },
  {
   "cell_type": "code",
   "execution_count": null,
   "metadata": {},
   "outputs": [],
   "source": [
    "print(theta.shape, stat_vec_st.shape)\n",
    "posterior = obj.train(\n",
    "    theta, stat_vec_st, prior, method=\"SNPE\", density_estimator=\"maf\", num_threads=8\n",
    ")"
   ]
  },
  {
   "cell_type": "code",
   "execution_count": null,
   "metadata": {},
   "outputs": [],
   "source": [
    "with open(join(path, \"posterior.pkl\"), \"wb\") as f:\n",
    "    pickle.dump(posterior, f)"
   ]
  },
  {
   "cell_type": "code",
   "execution_count": null,
   "metadata": {},
   "outputs": [],
   "source": [
    "with open(join(path, \"posterior.pkl\"), \"rb\") as f:\n",
    "    posterior = pickle.load(f)"
   ]
  },
  {
   "cell_type": "code",
   "execution_count": null,
   "metadata": {},
   "outputs": [],
   "source": [
    "xo = wrapper(params, control_true, initial_state, cfg)\n",
    "xo_st = scalar.transform(xo.reshape(1, -1))"
   ]
  },
  {
   "cell_type": "code",
   "execution_count": null,
   "metadata": {},
   "outputs": [],
   "source": [
    "samples = obj.sample_posterior(xo_st, 10000, posterior)\n",
    "torch.save(samples, join(path, \"samples.pt\"))"
   ]
  },
  {
   "cell_type": "code",
   "execution_count": null,
   "metadata": {},
   "outputs": [],
   "source": [
    "prior_min = prior_min[:10]\n",
    "prior_max = prior_max[:10]\n",
    "eta_true = eta_true[:10]\n",
    "limits = [[i, j] for i, j in zip(prior_min, prior_max)]\n",
    "points = [[g_true] + eta_true]\n",
    "fig, ax = pairplot(\n",
    "    samples[:, :10],\n",
    "    limits=limits,\n",
    "    figsize=(5, 5),\n",
    "    points=points,\n",
    "    labels=[\"G\"]+ [f\"eta_{i}\" for i in range(9)],\n",
    "    offdiag=\"kde\",\n",
    "    diag=\"kde\",\n",
    "    points_colors=\"r\",\n",
    "    samples_colors=\"k\",\n",
    "    points_offdiag={\"markersize\": 10},\n",
    ")\n",
    "ax[0, 0].tick_params(labelsize=14)\n",
    "ax[0, 0].margins(y=0)\n",
    "plt.tight_layout()\n",
    "fig.savefig(join(path, \"triangleplot.jpeg\"), dpi=300)"
   ]
  }
 ],
 "metadata": {
  "language_info": {
   "name": "python"
  }
 },
 "nbformat": 4,
 "nbformat_minor": 2
}
