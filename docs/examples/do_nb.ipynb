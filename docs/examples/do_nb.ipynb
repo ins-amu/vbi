{
 "cells": [
  {
   "cell_type": "code",
   "execution_count": null,
   "metadata": {},
   "outputs": [],
   "source": [
    "import torch\n",
    "import pickle\n",
    "import numpy as np\n",
    "from tqdm import tqdm\n",
    "from timeit import timeit\n",
    "import sbi.utils as utils\n",
    "import matplotlib.pyplot as plt\n",
    "from multiprocessing import Pool\n",
    "from sbi.analysis import pairplot\n",
    "from vbi.inference import Inference\n",
    "from sklearn.preprocessing import StandardScaler\n",
    "from vbi.models.numba.damp_oscillator import DO_nb"
   ]
  },
  {
   "cell_type": "code",
   "execution_count": null,
   "metadata": {},
   "outputs": [],
   "source": [
    "from vbi import report_cfg\n",
    "from vbi import extract_features\n",
    "from vbi import get_features_by_domain, get_features_by_given_names"
   ]
  },
  {
   "cell_type": "code",
   "execution_count": null,
   "metadata": {},
   "outputs": [],
   "source": [
    "seed = 2\n",
    "np.random.seed(seed)\n",
    "torch.manual_seed(seed)"
   ]
  },
  {
   "cell_type": "code",
   "execution_count": null,
   "metadata": {},
   "outputs": [],
   "source": [
    "params = {\n",
    "    \"a\": 0.1,\n",
    "    \"b\": 0.05,\n",
    "    \"dt\": 0.05,\n",
    "    \"t_start\": 0,\n",
    "    \"method\": \"heun\",\n",
    "    \"t_end\": 2001.0,\n",
    "    \"t_cut\": 500,\n",
    "    \"output\": \"output\",\n",
    "    \"initial_state\": [0.5, 1.0],\n",
    "}"
   ]
  },
  {
   "cell_type": "code",
   "execution_count": null,
   "metadata": {},
   "outputs": [],
   "source": [
    "if 0:\n",
    "    ode = DO_nb(params)\n",
    "    control = {\"a\": 0.11, \"b\": 0.06}\n",
    "    t, x = ode.run(par=control)\n",
    "    plt.figure(figsize=(4, 3))\n",
    "    plt.plot(t, x[:, 0], label=\"$\\\\theta$\")\n",
    "    plt.plot(t, x[:, 1], label=\"$\\omega$\")\n",
    "    plt.xlabel(\"t\")\n",
    "    plt.ylabel(\"x\")\n",
    "    plt.legend()\n",
    "    plt.tight_layout()\n",
    "    plt.show()"
   ]
  },
  {
   "cell_type": "code",
   "execution_count": null,
   "metadata": {},
   "outputs": [],
   "source": [
    "def func(par):\n",
    "    ode = DO_nb(params)\n",
    "    control = {\"a\": par[0], \"b\": par[1]}\n",
    "    t, x = ode.run(par=control)\n",
    "    return x"
   ]
  },
  {
   "cell_type": "markdown",
   "metadata": {},
   "source": [
    "warm up"
   ]
  },
  {
   "cell_type": "code",
   "execution_count": null,
   "metadata": {},
   "outputs": [],
   "source": [
    "func([0.1, 0.05])\n",
    "# timing\n",
    "number = 1000\n",
    "t = timeit(lambda: func([0.1, 0.05]), number=number)\n",
    "print(f\"average time for one run: {t / number:.5f} s\")"
   ]
  },
  {
   "cell_type": "code",
   "execution_count": null,
   "metadata": {},
   "outputs": [],
   "source": [
    "cfg = get_features_by_domain(domain=\"statistical\")\n",
    "cfg = get_features_by_given_names(cfg, names=[\"calc_std\", \"calc_mean\"])\n",
    "report_cfg(cfg)"
   ]
  },
  {
   "cell_type": "code",
   "execution_count": null,
   "metadata": {},
   "outputs": [],
   "source": [
    "def wrapper(params, control, cfg, verbose=False):\n",
    "    ode = DO_nb(params)\n",
    "    t, x = ode.run(par=control)\n",
    "\n",
    "    # extract features\n",
    "    fs = 1.0 / params[\"dt\"] * 1000  # [Hz]\n",
    "    stat_vec = extract_features(\n",
    "        ts=[x.T], cfg=cfg, fs=fs, n_workers=1, verbose=verbose\n",
    "    ).values\n",
    "    return stat_vec[0]"
   ]
  },
  {
   "cell_type": "code",
   "execution_count": null,
   "metadata": {},
   "outputs": [],
   "source": [
    "def batch_run(par, control_list, cfg, n_workers=1):\n",
    "    def update_bar(_):\n",
    "        pbar.update()\n",
    "    stat_vec = []\n",
    "    with Pool(processes=n_workers) as p:\n",
    "        with tqdm(total=len(control_list)) as pbar:\n",
    "            asy_res = [\n",
    "                p.apply_async(wrapper, args=(par, control, cfg), callback=update_bar)\n",
    "                for control in control_list\n",
    "            ]\n",
    "            stat_vec = [res.get() for res in asy_res]\n",
    "    return stat_vec"
   ]
  },
  {
   "cell_type": "code",
   "execution_count": null,
   "metadata": {},
   "outputs": [],
   "source": [
    "control = {\"a\": 0.11, \"b\": 0.06}\n",
    "x_ = wrapper(params, control, cfg)\n",
    "print(x_)"
   ]
  },
  {
   "cell_type": "code",
   "execution_count": null,
   "metadata": {},
   "outputs": [],
   "source": [
    "num_sim = 200\n",
    "num_workers = 10\n",
    "a_min, a_max = 0.0, 1.0\n",
    "b_min, b_max = 0.0, 1.0\n",
    "prior_min = [a_min, b_min]\n",
    "prior_max = [a_max, b_max]\n",
    "theta_true = {\"a\": 0.1, \"b\": 0.05}"
   ]
  },
  {
   "cell_type": "code",
   "execution_count": null,
   "metadata": {},
   "outputs": [],
   "source": [
    "prior = utils.torchutils.BoxUniform(\n",
    "    low=torch.as_tensor(prior_min), high=torch.as_tensor(prior_max)\n",
    ")"
   ]
  },
  {
   "cell_type": "code",
   "execution_count": null,
   "metadata": {},
   "outputs": [],
   "source": [
    "obj = Inference()\n",
    "theta = obj.sample_prior(prior, num_sim)\n",
    "theta_np = theta.numpy().astype(float)\n",
    "control_list = [{\"a\": theta_np[i, 0], \"b\": theta_np[i, 1]} for i in range(num_sim)]"
   ]
  },
  {
   "cell_type": "code",
   "execution_count": null,
   "metadata": {},
   "outputs": [],
   "source": [
    "stat_vec = batch_run(params, control_list, cfg, n_workers=num_workers)"
   ]
  },
  {
   "cell_type": "code",
   "execution_count": null,
   "metadata": {},
   "outputs": [],
   "source": [
    "scaler = StandardScaler()\n",
    "stat_vec_st = scaler.fit_transform(np.array(stat_vec))\n",
    "stat_vec_st = torch.tensor(stat_vec_st, dtype=torch.float32)\n",
    "torch.save(theta, \"output/theta.pt\")\n",
    "torch.save(stat_vec_st, \"output/stat_vec_st.pt\")"
   ]
  },
  {
   "cell_type": "code",
   "execution_count": null,
   "metadata": {},
   "outputs": [],
   "source": [
    "theta.shape, stat_vec_st.shape"
   ]
  },
  {
   "cell_type": "code",
   "execution_count": null,
   "metadata": {},
   "outputs": [],
   "source": [
    "posterior = obj.train(\n",
    "    theta, stat_vec_st, prior, num_threads=8, method=\"SNPE\", density_estimator=\"maf\"\n",
    ")"
   ]
  },
  {
   "cell_type": "code",
   "execution_count": null,
   "metadata": {},
   "outputs": [],
   "source": [
    "with open(\"output/posterior.pkl\", \"wb\") as f:\n",
    "    pickle.dump(posterior, f)"
   ]
  },
  {
   "cell_type": "code",
   "execution_count": null,
   "metadata": {},
   "outputs": [],
   "source": [
    "with open(\"output/posterior.pkl\", \"rb\") as f:\n",
    "    posterior = pickle.load(f)"
   ]
  },
  {
   "cell_type": "code",
   "execution_count": null,
   "metadata": {},
   "outputs": [],
   "source": [
    "xo = wrapper(params, theta_true, cfg)\n",
    "xo_st = scaler.transform(xo.reshape(1, -1))"
   ]
  },
  {
   "cell_type": "code",
   "execution_count": null,
   "metadata": {},
   "outputs": [],
   "source": [
    "samples = obj.sample_posterior(xo_st, 10000, posterior)\n",
    "torch.save(samples, \"output/samples.pt\")"
   ]
  },
  {
   "cell_type": "code",
   "execution_count": null,
   "metadata": {},
   "outputs": [],
   "source": [
    "limits = [[i, j] for i, j in zip(prior_min, prior_max)]\n",
    "fig, ax = pairplot(\n",
    "    samples,\n",
    "    points=[list(theta_true.values())],\n",
    "    figsize=(5, 5),\n",
    "    limits=limits,\n",
    "    labels=[\"a\", \"b\"],\n",
    "    offdiag=\"kde\",\n",
    "    diag=\"kde\",\n",
    "    points_colors=\"r\",\n",
    "    samples_colors=\"k\",\n",
    "    points_offdiag={\"markersize\": 10},\n",
    ")\n",
    "ax[0, 0].margins(y=0)\n",
    "plt.tight_layout()\n",
    "fig.savefig(\"output/tri_do_nb.jpeg\", dpi=300)"
   ]
  }
 ],
 "metadata": {
  "language_info": {
   "name": "python"
  }
 },
 "nbformat": 4,
 "nbformat_minor": 2
}
