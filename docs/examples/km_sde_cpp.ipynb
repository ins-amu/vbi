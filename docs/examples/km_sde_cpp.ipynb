{
 "cells": [
  {
   "cell_type": "code",
   "execution_count": null,
   "metadata": {},
   "outputs": [],
   "source": [
    "import torch\n",
    "import pickle\n",
    "import numpy as np\n",
    "from tqdm import tqdm\n",
    "import networkx as nx\n",
    "import sbi.utils as utils\n",
    "import matplotlib.pyplot as plt\n",
    "from multiprocessing import Pool\n",
    "from sbi.analysis import pairplot\n",
    "from vbi.inference import Inference\n",
    "from vbi.models.cpp.km import KM_sde\n",
    "from sklearn.preprocessing import StandardScaler\n",
    "from helpers import *"
   ]
  },
  {
   "cell_type": "code",
   "execution_count": null,
   "metadata": {},
   "outputs": [],
   "source": [
    "from vbi import extract_features_list\n",
    "from vbi import get_features_by_domain, get_features_by_given_names"
   ]
  },
  {
   "cell_type": "code",
   "execution_count": null,
   "metadata": {},
   "outputs": [],
   "source": [
    "seed = 2\n",
    "np.random.seed(seed)\n",
    "torch.manual_seed(seed)"
   ]
  },
  {
   "cell_type": "code",
   "execution_count": null,
   "metadata": {},
   "outputs": [],
   "source": [
    "LABESSIZE = 12\n",
    "plt.rcParams['axes.labelsize'] = LABESSIZE\n",
    "plt.rcParams['xtick.labelsize'] = LABESSIZE\n",
    "plt.rcParams['ytick.labelsize'] = LABESSIZE"
   ]
  },
  {
   "cell_type": "code",
   "execution_count": null,
   "metadata": {},
   "outputs": [],
   "source": [
    "nn = 6\n",
    "SC = nx.to_numpy_array(nx.complete_graph(nn), dtype=np.float64)"
   ]
  },
  {
   "cell_type": "code",
   "execution_count": null,
   "metadata": {},
   "outputs": [],
   "source": [
    "par_dict = {\n",
    "    \"G\": 0.01,\n",
    "    \"dt\": 0.01,\n",
    "    \"noise_amp\": 0.05,\n",
    "    \"omega\": 2 * np.pi * 1.0 + np.random.normal(0.1, 0.5, nn),\n",
    "    \"weights\": SC,\n",
    "    \"t_transition\": 500.0,      # ms\n",
    "    \"t_end\": 2001.0,            # ms\n",
    "    \"alpha\": None,\n",
    "    \"output\": \"output\",\n",
    "}"
   ]
  },
  {
   "cell_type": "code",
   "execution_count": null,
   "metadata": {},
   "outputs": [],
   "source": [
    "theta_true = {\"G\": {\"value\": 0.5}}"
   ]
  },
  {
   "cell_type": "code",
   "execution_count": null,
   "metadata": {},
   "outputs": [],
   "source": [
    "obj = KM_sde(par_dict)\n",
    "# print(obj())\n",
    "data = obj.run(par=theta_true)"
   ]
  },
  {
   "cell_type": "code",
   "execution_count": null,
   "metadata": {},
   "outputs": [],
   "source": [
    "if 0:  # plot time series\n",
    "    fig, ax = plt.subplots(1, 2, figsize=(10, 4))\n",
    "    plot_ts_pxx_km(data, par_dict, [ax[0], ax[1]], alpha=0.6, lw=1)\n",
    "    ax[0].set_xlim(1990, 2000)\n",
    "    plt.tight_layout()\n",
    "    plt.show()"
   ]
  },
  {
   "cell_type": "code",
   "execution_count": null,
   "metadata": {},
   "outputs": [],
   "source": [
    "def wrapper(par, control, cfg, verbose=False):\n",
    "    sde = KM_sde(par)\n",
    "    sol = sde.run(control)\n",
    "\n",
    "    # extract features\n",
    "    fs = 1 / par['dt']\n",
    "    stat_vec = extract_features_list(ts=[sol['x']],\n",
    "                                      cfg=cfg,\n",
    "                                      fs=fs,\n",
    "                                      n_workers=1,\n",
    "                                      verbose=verbose).values\n",
    "    return stat_vec[0]"
   ]
  },
  {
   "cell_type": "code",
   "execution_count": null,
   "metadata": {},
   "outputs": [],
   "source": [
    "def batch_run(par, control_list, cfg, n_workers=1):\n",
    "    stat_vec = []\n",
    "    n = len(control_list)\n",
    "    def update_bar(_):\n",
    "        pbar.update()\n",
    "    with Pool(n_workers) as p:\n",
    "        with tqdm(total=n) as pbar:\n",
    "            async_results = [p.apply_async(wrapper,\n",
    "                                           args=(\n",
    "                                               par, control_list[i], cfg, False),\n",
    "                                           callback=update_bar)\n",
    "                             for i in range(n)]\n",
    "            stat_vec = [res.get() for res in async_results]\n",
    "    return stat_vec"
   ]
  },
  {
   "cell_type": "code",
   "execution_count": null,
   "metadata": {},
   "outputs": [],
   "source": [
    "cfg = get_features_by_domain(domain=\"statistical\")\n",
    "cfg = get_features_by_given_names(cfg, names=['kop', 'calc_std', 'calc_mean'])\n",
    "# report_cfg(cfg)"
   ]
  },
  {
   "cell_type": "code",
   "execution_count": null,
   "metadata": {},
   "outputs": [],
   "source": [
    "num_sim = 200\n",
    "num_workers = 10\n",
    "G_min, G_max = 0, 1.0\n",
    "prior_min = [G_min]\n",
    "prior_max = [G_max]\n",
    "prior = utils.BoxUniform(low=torch.tensor(prior_min),\n",
    "                         high=torch.tensor(prior_max))"
   ]
  },
  {
   "cell_type": "code",
   "execution_count": null,
   "metadata": {},
   "outputs": [],
   "source": [
    "obj = Inference()\n",
    "theta = obj.sample_prior(prior, num_sim)\n",
    "theta_np = theta.numpy().astype(float)\n",
    "control_list = [{'G': {'value': theta_np[i, 0]}} for i in range(num_sim)]"
   ]
  },
  {
   "cell_type": "code",
   "execution_count": null,
   "metadata": {},
   "outputs": [],
   "source": [
    "stat_vec = batch_run(par_dict, control_list, cfg, num_workers)"
   ]
  },
  {
   "cell_type": "code",
   "execution_count": null,
   "metadata": {},
   "outputs": [],
   "source": [
    "scalar = StandardScaler()\n",
    "stat_vec_st = scalar.fit_transform(np.array(stat_vec))\n",
    "stat_vec_st = torch.tensor(stat_vec_st, dtype=torch.float32)\n",
    "torch.save(stat_vec_st, \"output/stat_vec_st.pt\")\n",
    "torch.save(theta, \"output/theta.pt\")"
   ]
  },
  {
   "cell_type": "code",
   "execution_count": null,
   "metadata": {},
   "outputs": [],
   "source": [
    "print(theta.shape, stat_vec_st.shape)"
   ]
  },
  {
   "cell_type": "code",
   "execution_count": null,
   "metadata": {},
   "outputs": [],
   "source": [
    "posterior = obj.train(theta, stat_vec_st, prior, method='SNPE', density_estimator=\"maf\")"
   ]
  },
  {
   "cell_type": "code",
   "execution_count": null,
   "metadata": {},
   "outputs": [],
   "source": [
    "with open('output/posterior.pkl', 'wb') as f:\n",
    "    pickle.dump(posterior, f)"
   ]
  },
  {
   "cell_type": "code",
   "execution_count": null,
   "metadata": {},
   "outputs": [],
   "source": [
    "with open('output/posterior.pkl', 'rb') as f:\n",
    "    posterior = pickle.load(f)"
   ]
  },
  {
   "cell_type": "code",
   "execution_count": null,
   "metadata": {},
   "outputs": [],
   "source": [
    "xo = wrapper(par_dict, theta_true, cfg)\n",
    "xo_st = scalar.transform(np.array(xo).reshape(1, -1))"
   ]
  },
  {
   "cell_type": "code",
   "execution_count": null,
   "metadata": {},
   "outputs": [],
   "source": [
    "samples = obj.sample_posterior(xo_st, 10000, posterior)\n",
    "torch.save(samples, 'output/samples.pt')"
   ]
  },
  {
   "cell_type": "code",
   "execution_count": null,
   "metadata": {},
   "outputs": [],
   "source": [
    "limits = [[i, j] for i, j in zip(prior_min, prior_max)]\n",
    "points = [[theta_true['G']['value']]]\n",
    "fig, ax = pairplot(\n",
    "    samples,\n",
    "    limits=limits,\n",
    "    fig_size=(4,4),\n",
    "    points=points,\n",
    "    labels=['G'],\n",
    "    offdiag='kde',\n",
    "    diag='kde',\n",
    "    points_colors=\"r\",\n",
    "    samples_colors=\"k\",\n",
    "    points_offdiag={'markersize': 10})\n",
    "plt.tight_layout()\n",
    "fig.savefig(\"output/tri_km_cpu.jpeg\", dpi=300)"
   ]
  },
  {
   "cell_type": "markdown",
   "metadata": {},
   "source": [
    "################## Sweep G ####################"
   ]
  },
  {
   "cell_type": "code",
   "execution_count": null,
   "metadata": {},
   "outputs": [],
   "source": [
    "def kop(ts):  # order parameter\n",
    "    nn, nt = ts.shape\n",
    "    r = np.abs(np.sum(np.exp(1j * ts), axis=0) / nn)\n",
    "    return r"
   ]
  },
  {
   "cell_type": "code",
   "execution_count": null,
   "metadata": {},
   "outputs": [],
   "source": [
    "def run(g):\n",
    "    par = deepcopy(par_dict)\n",
    "    par['G'] = g\n",
    "    obj = KM_sde(par)\n",
    "    data = obj.run()\n",
    "    r = np.mean(kop(data['x']))\n",
    "    return r"
   ]
  },
  {
   "cell_type": "code",
   "execution_count": null,
   "metadata": {},
   "outputs": [],
   "source": [
    "K = np.arange(0, 3, 0.1)\n",
    "R = np.zeros(len(K))\n",
    "fig, ax = plt.subplots(1, figsize=(6, 3))"
   ]
  },
  {
   "cell_type": "code",
   "execution_count": null,
   "metadata": {},
   "outputs": [],
   "source": [
    "with Pool(10) as p:\n",
    "    R = np.array(list(tqdm(p.imap(run, K), total=len(K))))"
   ]
  },
  {
   "cell_type": "code",
   "execution_count": null,
   "metadata": {},
   "outputs": [],
   "source": [
    "plt.plot(K, R)\n",
    "plt.xlabel(\"G\")\n",
    "plt.ylabel(r\"$\\langle r \\rangle_{t}$\")\n",
    "plt.tight_layout()\n",
    "plt.show()"
   ]
  }
 ],
 "metadata": {
  "language_info": {
   "name": "python"
  }
 },
 "nbformat": 4,
 "nbformat_minor": 2
}
