{
 "cells": [
  {
   "cell_type": "markdown",
   "metadata": {},
   "source": [
    "---<br>\n",
    "jupyter:<br>\n",
    "  jupytext:<br>\n",
    "    cell_metadata_filter: -all<br>\n",
    "    custom_cell_magics: kql<br>\n",
    "    text_representation:<br>\n",
    "      extension: .py<br>\n",
    "      format_name: percent<br>\n",
    "      format_version: '1.3'<br>\n",
    "      jupytext_version: 1.11.2<br>\n",
    "  kernelspec:<br>\n",
    "    display_name: vbi_paper<br>\n",
    "    language: python<br>\n",
    "    name: python3<br>\n",
    "---"
   ]
  },
  {
   "cell_type": "markdown",
   "metadata": {},
   "source": [
    "%%"
   ]
  },
  {
   "cell_type": "code",
   "execution_count": null,
   "metadata": {},
   "outputs": [],
   "source": [
    "import torch\n",
    "import pickle\n",
    "import numpy as np\n",
    "from time import time\n",
    "from tqdm import tqdm\n",
    "import sbi.utils as utils\n",
    "import scipy.stats as stats\n",
    "from helpers import plot_mat\n",
    "import matplotlib.pyplot as plt\n",
    "from multiprocessing import Pool\n",
    "from vbi.utils import LoadSample\n",
    "from sbi.analysis import pairplot\n",
    "from vbi.inference import Inference\n",
    "from vbi.models.cpp.ww import WW_sde\n",
    "from vbi.utils import timer\n",
    "from sklearn.preprocessing import StandardScaler\n",
    "from vbi.feature_extraction.features_utils import get_fc, get_fcd2"
   ]
  },
  {
   "cell_type": "markdown",
   "metadata": {},
   "source": [
    "%%"
   ]
  },
  {
   "cell_type": "code",
   "execution_count": null,
   "metadata": {},
   "outputs": [],
   "source": [
    "import vbi\n",
    "from vbi import extract_features\n",
    "from vbi import get_features_by_domain, get_features_by_given_names"
   ]
  },
  {
   "cell_type": "markdown",
   "metadata": {},
   "source": [
    "%%"
   ]
  },
  {
   "cell_type": "code",
   "execution_count": null,
   "metadata": {},
   "outputs": [],
   "source": [
    "seed = 2\n",
    "np.random.seed(seed)\n",
    "torch.manual_seed(seed)"
   ]
  },
  {
   "cell_type": "markdown",
   "metadata": {},
   "source": [
    "%%"
   ]
  },
  {
   "cell_type": "code",
   "execution_count": null,
   "metadata": {},
   "outputs": [],
   "source": [
    "LABESSIZE = 12\n",
    "plt.rcParams[\"axes.labelsize\"] = LABESSIZE\n",
    "plt.rcParams[\"xtick.labelsize\"] = LABESSIZE\n",
    "plt.rcParams[\"ytick.labelsize\"] = LABESSIZE"
   ]
  },
  {
   "cell_type": "markdown",
   "metadata": {},
   "source": [
    "%%"
   ]
  },
  {
   "cell_type": "code",
   "execution_count": null,
   "metadata": {},
   "outputs": [],
   "source": [
    "def visual(t, s, t_fmri, d_fmri, k=30, **kwargs):\n",
    "    fc = get_fc(d_fmri)['full']\n",
    "    fcd = get_fcd2(d_fmri, **kwargs)\n",
    "    \n",
    "    fc = vbi.utils.set_diag(fc, 0)\n",
    "    fcd = vbi.utils.set_diag(fcd, k)\n",
    "    \n",
    "    mosaic = \"\"\"\n",
    "    AACD\n",
    "    BBCD\n",
    "    \"\"\"\n",
    "    fig = plt.figure(constrained_layout=True, figsize=(12, 3.5))\n",
    "    ax = fig.subplot_mosaic(mosaic)\n",
    "    ax['A'].plot(t, s.T, lw=0.1, alpha=1.0)\n",
    "    ax['B'].plot(t_fmri, d_fmri.T, lw=0.1, alpha=1.0)\n",
    "    im = ax['C'].imshow(fcd, cmap=\"viridis\"); plt.colorbar(im, ax=ax['C'])\n",
    "    ax['D'].imshow(fc, cmap=\"viridis\"); plt.colorbar(im, ax=ax['D']);\n",
    "    \n",
    "@timer\n",
    "def run(par):    \n",
    "    obj = WW_sde(par)\n",
    "    data = obj.run()\n",
    "    t = data[\"t\"]\n",
    "    s = data[\"s\"]\n",
    "    t_fmri = data[\"t_fmri\"]\n",
    "    d_fmri = data[\"d_fmri\"]\n",
    "    \n",
    "    if np.isnan(s).any() or np.isnan(d_fmri).any():\n",
    "        print(\"Nan values detected\")\n",
    "        return None, None, None, None\n",
    "    \n",
    "    return t, s, t_fmri, d_fmri"
   ]
  },
  {
   "cell_type": "markdown",
   "metadata": {},
   "source": [
    "%%"
   ]
  },
  {
   "cell_type": "code",
   "execution_count": null,
   "metadata": {},
   "outputs": [],
   "source": [
    "weights = vbi.LoadSample(84).get_weights()\n",
    "nn = weights.shape[0]"
   ]
  },
  {
   "cell_type": "markdown",
   "metadata": {},
   "source": [
    "%%"
   ]
  },
  {
   "cell_type": "code",
   "execution_count": null,
   "metadata": {},
   "outputs": [],
   "source": [
    "par = {\n",
    "    \"G\": 0.2,\n",
    "    \"dt\": 2.5,\n",
    "    \"t_cut\": 1 * 60 * 1000.0,\n",
    "    \"t_end\": 5 * 60 * 1000.0,\n",
    "    \"weights\": weights,\n",
    "    \"seed\": seed,\n",
    "    \"I_o\" : np.ones(nn) * 0.286,\n",
    "    \"w\": np.random.uniform(0.9, 1.0, nn),\n",
    "    \"sigma_noise\": 0.008,\n",
    "    \"ts_decimate\": 20,\n",
    "    \"fmri_decimate\": 50,\n",
    "    \"RECORD_TS\": 1,\n",
    "    \"RECORD_FMRI\": 1,\n",
    "}"
   ]
  },
  {
   "cell_type": "code",
   "execution_count": null,
   "metadata": {},
   "outputs": [],
   "source": [
    "t, s, t_fmri, d_fmri = run(par)\n",
    "visual(t, s, t_fmri[:], d_fmri[:, :], k=30, wwidth=200, maxNwindows=250, olap=0.94)"
   ]
  },
  {
   "cell_type": "markdown",
   "metadata": {},
   "source": [
    "%% [markdown]<br>\n",
    "if 1:"
   ]
  },
  {
   "cell_type": "markdown",
   "metadata": {},
   "source": [
    "%%"
   ]
  },
  {
   "cell_type": "code",
   "execution_count": null,
   "metadata": {},
   "outputs": [],
   "source": [
    "cfg = get_features_by_domain(domain=\"connectivity\")\n",
    "cfg = get_features_by_given_names(cfg, names=[\"fc_stat\"])\n",
    "# report_cfg(cfg)"
   ]
  },
  {
   "cell_type": "markdown",
   "metadata": {},
   "source": [
    "%%"
   ]
  },
  {
   "cell_type": "code",
   "execution_count": null,
   "metadata": {},
   "outputs": [],
   "source": [
    "def wrapper(par, control, cfg, verbose=False):\n",
    "    ode = WW_sde(par)\n",
    "    sol = ode.run(control)\n",
    "\n",
    "    # extract features\n",
    "    fs = 1.0 / par[\"dt\"] * 1000  # [Hz]\n",
    "    stat_vec = extract_features(\n",
    "        ts=[sol[\"d_fmri\"].T], cfg=cfg, fs=fs, verbose=verbose\n",
    "    ).values[0]\n",
    "    return stat_vec"
   ]
  },
  {
   "cell_type": "markdown",
   "metadata": {},
   "source": [
    "%%"
   ]
  },
  {
   "cell_type": "code",
   "execution_count": null,
   "metadata": {},
   "outputs": [],
   "source": [
    "def batch_run(par, control_list, cfg, n_workers=1):\n",
    "    stat_vec = []\n",
    "    n = len(control_list)\n",
    "    def update_bar(_):\n",
    "        pbar.update()\n",
    "    with Pool(processes=n_workers) as pool:\n",
    "        with tqdm(total=n) as pbar:\n",
    "            async_results = [\n",
    "                pool.apply_async(\n",
    "                    wrapper,\n",
    "                    args=(par, control_list[i], cfg, False),\n",
    "                    callback=update_bar,\n",
    "                )\n",
    "                for i in range(n)\n",
    "            ]\n",
    "            stat_vec = [res.get() for res in async_results]\n",
    "    return stat_vec"
   ]
  },
  {
   "cell_type": "markdown",
   "metadata": {},
   "source": [
    "%%"
   ]
  },
  {
   "cell_type": "code",
   "execution_count": null,
   "metadata": {},
   "outputs": [],
   "source": [
    "theta_true = {\n",
    "    \"G\": {\"value\": 0.65},\n",
    "}\n",
    "# tic = time()\n",
    "# x_ = wrapper(par, theta_true, cfg)\n",
    "# print(f\"Elapsed time: {time() - tic:.2f} s\")\n",
    "# print(x_)"
   ]
  },
  {
   "cell_type": "markdown",
   "metadata": {},
   "source": [
    "%%"
   ]
  },
  {
   "cell_type": "code",
   "execution_count": null,
   "metadata": {},
   "outputs": [],
   "source": [
    "num_sim = 200\n",
    "num_workers = 10\n",
    "G_min, G_max = 0.0, 1.5\n",
    "prior_min = [G_min]\n",
    "prior_max = [G_max]\n",
    "prior = utils.BoxUniform(low=torch.tensor(prior_min), high=torch.tensor(prior_max))"
   ]
  },
  {
   "cell_type": "markdown",
   "metadata": {},
   "source": [
    "%%"
   ]
  },
  {
   "cell_type": "code",
   "execution_count": null,
   "metadata": {},
   "outputs": [],
   "source": [
    "obj = Inference()\n",
    "theta = obj.sample_prior(prior, num_sim)\n",
    "theta_np = theta.numpy().astype(float)\n",
    "control_list = [{\"G\": {\"value\": theta_np[i, 0]}} for i in range(num_sim)]"
   ]
  },
  {
   "cell_type": "markdown",
   "metadata": {},
   "source": [
    "%%"
   ]
  },
  {
   "cell_type": "code",
   "execution_count": null,
   "metadata": {},
   "outputs": [],
   "source": [
    "stat_vec = batch_run(par, control_list, cfg, num_workers)"
   ]
  },
  {
   "cell_type": "markdown",
   "metadata": {},
   "source": [
    "%%"
   ]
  },
  {
   "cell_type": "code",
   "execution_count": null,
   "metadata": {},
   "outputs": [],
   "source": [
    "scaler = StandardScaler()\n",
    "stat_vec_st = scaler.fit_transform(np.array(stat_vec))\n",
    "stat_vec_st = torch.tensor(stat_vec_st, dtype=torch.float32)\n",
    "torch.save(theta, \"output/theta.pt\")\n",
    "torch.save(stat_vec, \"output/stat_vec.pt\")"
   ]
  },
  {
   "cell_type": "markdown",
   "metadata": {},
   "source": [
    "%%"
   ]
  },
  {
   "cell_type": "code",
   "execution_count": null,
   "metadata": {},
   "outputs": [],
   "source": [
    "print(theta.shape, stat_vec_st.shape)"
   ]
  },
  {
   "cell_type": "markdown",
   "metadata": {},
   "source": [
    "%%"
   ]
  },
  {
   "cell_type": "code",
   "execution_count": null,
   "metadata": {},
   "outputs": [],
   "source": [
    "posterior = obj.train(theta, stat_vec_st, prior, method=\"SNPE\", density_estimator=\"maf\")"
   ]
  },
  {
   "cell_type": "markdown",
   "metadata": {},
   "source": [
    "%%"
   ]
  },
  {
   "cell_type": "code",
   "execution_count": null,
   "metadata": {},
   "outputs": [],
   "source": [
    "with open(\"output/posterior.pkl\", \"wb\") as f:\n",
    "    pickle.dump(posterior, f)"
   ]
  },
  {
   "cell_type": "markdown",
   "metadata": {},
   "source": [
    "%%"
   ]
  },
  {
   "cell_type": "code",
   "execution_count": null,
   "metadata": {},
   "outputs": [],
   "source": [
    "with open(\"output/posterior.pkl\", \"rb\") as f:\n",
    "    posterior = pickle.load(f)"
   ]
  },
  {
   "cell_type": "markdown",
   "metadata": {},
   "source": [
    "%%"
   ]
  },
  {
   "cell_type": "code",
   "execution_count": null,
   "metadata": {},
   "outputs": [],
   "source": [
    "xo = wrapper(par, theta_true, cfg)\n",
    "xo_st = scaler.transform(xo.reshape(1, -1))"
   ]
  },
  {
   "cell_type": "markdown",
   "metadata": {},
   "source": [
    "%%"
   ]
  },
  {
   "cell_type": "code",
   "execution_count": null,
   "metadata": {},
   "outputs": [],
   "source": [
    "samples = obj.sample_posterior(xo_st, 10000, posterior)\n",
    "torch.save(samples, \"output/samples.pt\")"
   ]
  },
  {
   "cell_type": "markdown",
   "metadata": {},
   "source": [
    "%%"
   ]
  },
  {
   "cell_type": "code",
   "execution_count": null,
   "metadata": {},
   "outputs": [],
   "source": [
    "limits = [[i, j] for i, j in zip(prior_min, prior_max)]\n",
    "points = [[theta_true[\"G\"][\"value\"]]]\n",
    "fig, ax = pairplot(\n",
    "    samples,\n",
    "    limits=limits,\n",
    "    figsize=(4, 4),\n",
    "    points=points,\n",
    "    labels=[\"G\"],\n",
    "    offdiag=\"kde\",\n",
    "    diag=\"kde\",\n",
    "    points_colors=\"r\",\n",
    "    samples_colors=\"k\",\n",
    "    points_offdiag={\"markersize\": 10},\n",
    ")\n",
    "ax[0, 0].tick_params(labelsize=14)\n",
    "ax[0, 0].margins(y=0)\n",
    "plt.tight_layout()\n",
    "fig.savefig(\"output/tri.jpeg\", dpi=300)"
   ]
  }
 ],
 "metadata": {
  "language_info": {
   "name": "python"
  }
 },
 "nbformat": 4,
 "nbformat_minor": 2
}
