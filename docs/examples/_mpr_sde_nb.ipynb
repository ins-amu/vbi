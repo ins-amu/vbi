{
 "cells": [
  {
   "cell_type": "code",
   "execution_count": null,
   "metadata": {},
   "outputs": [],
   "source": [
    "import numpy as np \n",
    "import networkx as nx\n",
    "import matplotlib.pyplot as plt\n",
    "from vbi.models.numba.mpr import MPR_sde"
   ]
  },
  {
   "cell_type": "code",
   "execution_count": null,
   "metadata": {},
   "outputs": [],
   "source": [
    "seed = 2\n",
    "np.random.seed(seed)"
   ]
  },
  {
   "cell_type": "code",
   "execution_count": null,
   "metadata": {},
   "outputs": [],
   "source": [
    "LABESSIZE = 14\n",
    "plt.rcParams['axes.labelsize'] = LABESSIZE\n",
    "plt.rcParams['xtick.labelsize'] = LABESSIZE\n",
    "plt.rcParams['ytick.labelsize'] = LABESSIZE"
   ]
  },
  {
   "cell_type": "code",
   "execution_count": null,
   "metadata": {},
   "outputs": [],
   "source": [
    "nn = 6\n",
    "weights = nx.to_numpy_array(nx.complete_graph(nn))"
   ]
  },
  {
   "cell_type": "code",
   "execution_count": null,
   "metadata": {},
   "outputs": [],
   "source": [
    "parameters = {\n",
    "    \"G\": 0.55,                         # global coupling strength\n",
    "    \"dt\": 0.01,                         # for mpr model [ms]\n",
    "    \"J\": 14.5,                          # model parameter\n",
    "    \"eta\": -4.6*np.ones(nn),                        # model parameter\n",
    "    \"tau\": 1.0,                         # model parameter\n",
    "    \"delta\": 0.7,                       # model parameter\n",
    "    \"noise_amp\": 0.037,                 # amplitude of noise\n",
    "    \"iapp\": 0.0,                        # constant applyed current\n",
    "    # \"t_cut\": 20_000.0,                  # transition time * 10 [ms]\n",
    "    # \"t_end\": 250_000.0,                 # end time * 10 [ms]\n",
    "    \"t_cut\": 2_000.0,                  # transition time * 10 [ms]\n",
    "    \"t_end\": 5_000.0,                 # end time * 10 [ms]\n",
    "    \"weights\": weights,                 # weighted connection matrix\n",
    "    \"seed\": seed,                       # seed for random number generator\n",
    "    \"output\": \"output\",                 # output directory\n",
    "    \"RECORD_TS\": 0,                     # true to store large time series in file\n",
    "    \"ts_decimate\": 10,\n",
    "    \"fmri_decimate\": 500,\n",
    "}"
   ]
  },
  {
   "cell_type": "code",
   "execution_count": null,
   "metadata": {},
   "outputs": [],
   "source": [
    "control_dict = {\"G\": 0.5}\n",
    "obj = MPR_sde(parameters)\n",
    "sol = obj.run(par=control_dict)\n",
    "# print(sol)"
   ]
  }
 ],
 "metadata": {
  "language_info": {
   "name": "python"
  }
 },
 "nbformat": 4,
 "nbformat_minor": 2
}
