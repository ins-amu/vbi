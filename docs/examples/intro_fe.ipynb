{
 "cells": [
  {
   "cell_type": "code",
   "execution_count": null,
   "metadata": {},
   "outputs": [],
   "source": [
    "#!/usr/bin/env python\n",
    "# coding: utf-8"
   ]
  },
  {
   "cell_type": "code",
   "execution_count": null,
   "metadata": {},
   "outputs": [],
   "source": [
    "import vbi\n",
    "from vbi import report_cfg\n",
    "from vbi import extract_features_df, extract_features_list\n",
    "from vbi import get_features_by_domain, get_features_by_given_names"
   ]
  },
  {
   "cell_type": "code",
   "execution_count": null,
   "metadata": {},
   "outputs": [],
   "source": [
    "D = vbi.LoadSample(nn=88)\n",
    "ts = D.get_bold()\n",
    "print(ts.shape)\n",
    "import numpy as np\n",
    "np.savetxt(\"ts.csv\", ts[:10, :].T, delimiter=\",\")"
   ]
  },
  {
   "cell_type": "code",
   "execution_count": null,
   "metadata": {},
   "outputs": [],
   "source": [
    "cfg = get_features_by_domain(domain=\"connectivity\")\n",
    "cfg = get_features_by_given_names(cfg, ['fc_stat'])\n",
    "cfg = vbi.update_cfg(cfg, 'fc_stat', {\"features\":[\"sum\"], \"fc_function\":\"corrcoef\"})\n",
    "report_cfg(cfg)"
   ]
  },
  {
   "cell_type": "code",
   "execution_count": null,
   "metadata": {},
   "outputs": [],
   "source": [
    "data = extract_features_list([ts], 0.5, cfg)"
   ]
  }
 ],
 "metadata": {
  "language_info": {
   "name": "python"
  }
 },
 "nbformat": 4,
 "nbformat_minor": 2
}
