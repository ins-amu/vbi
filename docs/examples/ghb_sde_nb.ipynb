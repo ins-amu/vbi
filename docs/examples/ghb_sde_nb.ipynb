{
 "cells": [
  {
   "cell_type": "code",
   "execution_count": null,
   "metadata": {},
   "outputs": [],
   "source": [
    "import numpy as np\n",
    "from vbi import LoadSample\n",
    "import matplotlib.pyplot as plt\n",
    "from numpy.random import uniform\n",
    "from vbi.models.numba.ghb import GHB_sde"
   ]
  },
  {
   "cell_type": "code",
   "execution_count": null,
   "metadata": {},
   "outputs": [],
   "source": [
    "seed = 2\n",
    "np.random.seed(seed)"
   ]
  },
  {
   "cell_type": "code",
   "execution_count": null,
   "metadata": {},
   "outputs": [],
   "source": [
    "LABESSIZE = 14\n",
    "plt.rcParams[\"axes.labelsize\"] = LABESSIZE\n",
    "plt.rcParams[\"xtick.labelsize\"] = LABESSIZE\n",
    "plt.rcParams[\"ytick.labelsize\"] = LABESSIZE"
   ]
  },
  {
   "cell_type": "code",
   "execution_count": null,
   "metadata": {},
   "outputs": [],
   "source": [
    "weights = LoadSample(nn=84).get_weights()\n",
    "nn = len(weights)"
   ]
  },
  {
   "cell_type": "code",
   "execution_count": null,
   "metadata": {},
   "outputs": [],
   "source": [
    "freq = uniform(0.02, 0.04, nn)\n",
    "omega = 2 * np.pi * freq"
   ]
  },
  {
   "cell_type": "code",
   "execution_count": null,
   "metadata": {},
   "outputs": [],
   "source": [
    "eta_mu = -1.\n",
    "eta_std = 1.\n",
    "eta_heter_rnd = np.random.randn(nn)\n",
    "eta = eta_mu+eta_std * eta_heter_rnd"
   ]
  },
  {
   "cell_type": "code",
   "execution_count": null,
   "metadata": {},
   "outputs": [],
   "source": [
    "params = {\n",
    "    \"G\": 0.25*100,\n",
    "    \"dt\": 0.001,\n",
    "    \"tcut\": 10.0,\n",
    "    \"tend\": 120.0,\n",
    "    \"sigma\": 0.1,\n",
    "    \"decimate\": 100,\n",
    "    \"eta\": eta,\n",
    "    \"omega\": omega,\n",
    "    \"weights\": weights,\n",
    "    \"init_state\": uniform(0, 1, 2 * nn),\n",
    "}"
   ]
  },
  {
   "cell_type": "code",
   "execution_count": null,
   "metadata": {},
   "outputs": [],
   "source": [
    "def wrapper(params, tspan=[0, 120]):\n",
    "    obj = GHB_sde(params)\n",
    "    return obj.run(tspan=tspan)"
   ]
  },
  {
   "cell_type": "code",
   "execution_count": null,
   "metadata": {},
   "outputs": [],
   "source": [
    "from timeit import timeit"
   ]
  },
  {
   "cell_type": "markdown",
   "metadata": {},
   "source": [
    "warm up"
   ]
  },
  {
   "cell_type": "code",
   "execution_count": null,
   "metadata": {},
   "outputs": [],
   "source": [
    "wrapper(params, tspan=[0,1])\n",
    "tic = timeit(lambda: wrapper(params, tspan=[0,120]), number=1)\n",
    "print(f\"Elapsed time: {tic:.2f} s\")"
   ]
  },
  {
   "cell_type": "code",
   "execution_count": null,
   "metadata": {},
   "outputs": [],
   "source": [
    "data = wrapper(params)\n",
    "bold = data[\"bold\"]\n",
    "t = data[\"t\"]\n",
    "print(bold.shape, t.shape)"
   ]
  },
  {
   "cell_type": "code",
   "execution_count": null,
   "metadata": {},
   "outputs": [],
   "source": [
    "fig, ax = plt.subplots(1, figsize=(12, 3))\n",
    "ax.plot(t, bold.T, lw=1)\n",
    "ax.set_title(\"Simulated BOLD signals\", fontsize=18)\n",
    "ax.set_xlabel(\"Time\", fontsize=18)\n",
    "ax.set_ylabel(\"Activity\", fontsize=18)\n",
    "ax.margins(x=0)\n",
    "plt.tight_layout()\n",
    "# plt.savefig(\"ghb_sde_nb.png\")\n",
    "plt.show()"
   ]
  }
 ],
 "metadata": {
  "language_info": {
   "name": "python"
  }
 },
 "nbformat": 4,
 "nbformat_minor": 2
}
