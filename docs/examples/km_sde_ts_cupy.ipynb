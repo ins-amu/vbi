{
 "cells": [
  {
   "cell_type": "code",
   "execution_count": null,
   "metadata": {},
   "outputs": [],
   "source": [
    "import numpy as np\n",
    "import networkx as nx\n",
    "import matplotlib.pyplot as plt\n",
    "# from vbi.models.cpp.km import KM_sde\n",
    "from vbi.models.cupy.km import KM_sde\n",
    "from helpers import *"
   ]
  },
  {
   "cell_type": "code",
   "execution_count": null,
   "metadata": {},
   "outputs": [],
   "source": [
    "seed = 2\n",
    "np.random.seed(seed)"
   ]
  },
  {
   "cell_type": "code",
   "execution_count": null,
   "metadata": {},
   "outputs": [],
   "source": [
    "LABESSIZE = 14\n",
    "plt.rcParams['axes.labelsize'] = LABESSIZE\n",
    "plt.rcParams['xtick.labelsize'] = LABESSIZE\n",
    "plt.rcParams['ytick.labelsize'] = LABESSIZE"
   ]
  },
  {
   "cell_type": "code",
   "execution_count": null,
   "metadata": {},
   "outputs": [],
   "source": [
    "nn = 6\n",
    "SC = nx.to_numpy_array(nx.complete_graph(nn), dtype=np.float64)"
   ]
  },
  {
   "cell_type": "code",
   "execution_count": null,
   "metadata": {},
   "outputs": [],
   "source": [
    "G = np.linspace(0, 0.1, 20)\n",
    "num_sim = len(G)"
   ]
  },
  {
   "cell_type": "code",
   "execution_count": null,
   "metadata": {},
   "outputs": [],
   "source": [
    "par_dict = {\n",
    "    \"G\": G,\n",
    "    \"dt\": 0.05,\n",
    "    \"num_sim\": num_sim,\n",
    "    \"weights\": SC,\n",
    "    \"noise_amp\": 0.2,\n",
    "    \"t_transition\": 100.0,\n",
    "    \"t_end\": 500.0,\n",
    "    \"alpha\": None,\n",
    "    \"engine\": \"gpu\",\n",
    "    \"seed\": seed,\n",
    "    \"output\": \"output\",\n",
    "    \"omega\": 2 * np.pi * np.random.normal(0.1, 0.01, nn),\n",
    "}"
   ]
  },
  {
   "cell_type": "code",
   "execution_count": null,
   "metadata": {},
   "outputs": [],
   "source": [
    "obj = KM_sde(par_dict)\n",
    "print(obj())\n",
    "data = obj.run(verbose=False)"
   ]
  },
  {
   "cell_type": "code",
   "execution_count": null,
   "metadata": {},
   "outputs": [],
   "source": [
    "t = data['t']\n",
    "x = data['x']  # (num_steps, num_nodes, num_sim)\n",
    "fig, ax = plt.subplots(1, 3, figsize=(14, 4))\n",
    "plot_ts_pxx_km_cupy(data, par_dict, ax, alpha=0.6, lw=1)\n",
    "ax[0].set_xlim(450, 500)\n",
    "plt.tight_layout()\n",
    "plt.show()"
   ]
  }
 ],
 "metadata": {
  "language_info": {
   "name": "python"
  }
 },
 "nbformat": 4,
 "nbformat_minor": 2
}
